{
 "cells": [
  {
   "cell_type": "code",
   "execution_count": 1,
   "id": "35690f9e",
   "metadata": {},
   "outputs": [],
   "source": [
    "import pandas as pd\n",
    "import numpy as np"
   ]
  },
  {
   "cell_type": "code",
   "execution_count": 2,
   "id": "53da2067",
   "metadata": {},
   "outputs": [],
   "source": [
    "data = pd.read_excel(\"C:\\\\Users\\\\fl9768\\\\Desktop\\\\Data for ML\\\\Pullback\\\\Pullback_train.xlsx\")"
   ]
  },
  {
   "cell_type": "code",
   "execution_count": 3,
   "id": "a0a288d6",
   "metadata": {},
   "outputs": [
    {
     "data": {
      "text/html": [
       "<div>\n",
       "<style scoped>\n",
       "    .dataframe tbody tr th:only-of-type {\n",
       "        vertical-align: middle;\n",
       "    }\n",
       "\n",
       "    .dataframe tbody tr th {\n",
       "        vertical-align: top;\n",
       "    }\n",
       "\n",
       "    .dataframe thead th {\n",
       "        text-align: right;\n",
       "    }\n",
       "</style>\n",
       "<table border=\"1\" class=\"dataframe\">\n",
       "  <thead>\n",
       "    <tr style=\"text-align: right;\">\n",
       "      <th></th>\n",
       "      <th>Mast name</th>\n",
       "      <th>Load case</th>\n",
       "      <th>Pullbackload</th>\n",
       "      <th>Rotation</th>\n",
       "      <th>Sectionmodulus</th>\n",
       "      <th>Stressvalue</th>\n",
       "    </tr>\n",
       "  </thead>\n",
       "  <tbody>\n",
       "    <tr>\n",
       "      <th>0</th>\n",
       "      <td>DR410i SP</td>\n",
       "      <td>1PB + 1.35Rot</td>\n",
       "      <td>35703.0</td>\n",
       "      <td>122720.0</td>\n",
       "      <td>3.901175</td>\n",
       "      <td>16664.0</td>\n",
       "    </tr>\n",
       "    <tr>\n",
       "      <th>1</th>\n",
       "      <td>DR410i SP</td>\n",
       "      <td>1.1PB + 1.35Rot</td>\n",
       "      <td>39273.3</td>\n",
       "      <td>122720.0</td>\n",
       "      <td>3.901175</td>\n",
       "      <td>17989.0</td>\n",
       "    </tr>\n",
       "    <tr>\n",
       "      <th>2</th>\n",
       "      <td>DR410i SP</td>\n",
       "      <td>1.3PB + 1.35Rot</td>\n",
       "      <td>46413.9</td>\n",
       "      <td>122720.0</td>\n",
       "      <td>3.901175</td>\n",
       "      <td>20642.0</td>\n",
       "    </tr>\n",
       "    <tr>\n",
       "      <th>3</th>\n",
       "      <td>DR410i SP</td>\n",
       "      <td>1.4PB + 1.35Rot</td>\n",
       "      <td>49984.2</td>\n",
       "      <td>122720.0</td>\n",
       "      <td>3.901175</td>\n",
       "      <td>21969.0</td>\n",
       "    </tr>\n",
       "    <tr>\n",
       "      <th>4</th>\n",
       "      <td>DR410i SP</td>\n",
       "      <td>0.8PB + 1.35Rot</td>\n",
       "      <td>28562.4</td>\n",
       "      <td>122720.0</td>\n",
       "      <td>3.901175</td>\n",
       "      <td>14014.0</td>\n",
       "    </tr>\n",
       "  </tbody>\n",
       "</table>\n",
       "</div>"
      ],
      "text/plain": [
       "   Mast name        Load case  Pullbackload  Rotation  Sectionmodulus  \\\n",
       "0  DR410i SP    1PB + 1.35Rot       35703.0  122720.0        3.901175   \n",
       "1  DR410i SP  1.1PB + 1.35Rot       39273.3  122720.0        3.901175   \n",
       "2  DR410i SP  1.3PB + 1.35Rot       46413.9  122720.0        3.901175   \n",
       "3  DR410i SP  1.4PB + 1.35Rot       49984.2  122720.0        3.901175   \n",
       "4  DR410i SP  0.8PB + 1.35Rot       28562.4  122720.0        3.901175   \n",
       "\n",
       "   Stressvalue  \n",
       "0      16664.0  \n",
       "1      17989.0  \n",
       "2      20642.0  \n",
       "3      21969.0  \n",
       "4      14014.0  "
      ]
     },
     "execution_count": 3,
     "metadata": {},
     "output_type": "execute_result"
    }
   ],
   "source": [
    "data.head()"
   ]
  },
  {
   "cell_type": "code",
   "execution_count": 4,
   "id": "f0c41819",
   "metadata": {},
   "outputs": [
    {
     "data": {
      "text/html": [
       "<div>\n",
       "<style scoped>\n",
       "    .dataframe tbody tr th:only-of-type {\n",
       "        vertical-align: middle;\n",
       "    }\n",
       "\n",
       "    .dataframe tbody tr th {\n",
       "        vertical-align: top;\n",
       "    }\n",
       "\n",
       "    .dataframe thead th {\n",
       "        text-align: right;\n",
       "    }\n",
       "</style>\n",
       "<table border=\"1\" class=\"dataframe\">\n",
       "  <thead>\n",
       "    <tr style=\"text-align: right;\">\n",
       "      <th></th>\n",
       "      <th>Pullbackload</th>\n",
       "      <th>Rotation</th>\n",
       "      <th>Sectionmodulus</th>\n",
       "      <th>Stressvalue</th>\n",
       "    </tr>\n",
       "  </thead>\n",
       "  <tbody>\n",
       "    <tr>\n",
       "      <th>0</th>\n",
       "      <td>35703.0</td>\n",
       "      <td>122720.0</td>\n",
       "      <td>3.901175</td>\n",
       "      <td>16664.0</td>\n",
       "    </tr>\n",
       "    <tr>\n",
       "      <th>1</th>\n",
       "      <td>39273.3</td>\n",
       "      <td>122720.0</td>\n",
       "      <td>3.901175</td>\n",
       "      <td>17989.0</td>\n",
       "    </tr>\n",
       "    <tr>\n",
       "      <th>2</th>\n",
       "      <td>46413.9</td>\n",
       "      <td>122720.0</td>\n",
       "      <td>3.901175</td>\n",
       "      <td>20642.0</td>\n",
       "    </tr>\n",
       "    <tr>\n",
       "      <th>3</th>\n",
       "      <td>49984.2</td>\n",
       "      <td>122720.0</td>\n",
       "      <td>3.901175</td>\n",
       "      <td>21969.0</td>\n",
       "    </tr>\n",
       "    <tr>\n",
       "      <th>4</th>\n",
       "      <td>28562.4</td>\n",
       "      <td>122720.0</td>\n",
       "      <td>3.901175</td>\n",
       "      <td>14014.0</td>\n",
       "    </tr>\n",
       "  </tbody>\n",
       "</table>\n",
       "</div>"
      ],
      "text/plain": [
       "   Pullbackload  Rotation  Sectionmodulus  Stressvalue\n",
       "0       35703.0  122720.0        3.901175      16664.0\n",
       "1       39273.3  122720.0        3.901175      17989.0\n",
       "2       46413.9  122720.0        3.901175      20642.0\n",
       "3       49984.2  122720.0        3.901175      21969.0\n",
       "4       28562.4  122720.0        3.901175      14014.0"
      ]
     },
     "execution_count": 4,
     "metadata": {},
     "output_type": "execute_result"
    }
   ],
   "source": [
    "data = data.drop('Mast name', axis = 'columns')\n",
    "data = data.drop('Load case', axis = 'columns')\n",
    "\n",
    "data.head()"
   ]
  },
  {
   "cell_type": "code",
   "execution_count": 5,
   "id": "c88ef0cd",
   "metadata": {},
   "outputs": [],
   "source": [
    "from sklearn import linear_model\n",
    "X_train = data[[\"Pullbackload\", \"Rotation\", \"Sectionmodulus\"]]\n",
    "y_train = data[[\"Stressvalue\"]]"
   ]
  },
  {
   "cell_type": "code",
   "execution_count": 6,
   "id": "6a1dc5a9",
   "metadata": {},
   "outputs": [
    {
     "data": {
      "text/html": [
       "<style>#sk-container-id-1 {color: black;background-color: white;}#sk-container-id-1 pre{padding: 0;}#sk-container-id-1 div.sk-toggleable {background-color: white;}#sk-container-id-1 label.sk-toggleable__label {cursor: pointer;display: block;width: 100%;margin-bottom: 0;padding: 0.3em;box-sizing: border-box;text-align: center;}#sk-container-id-1 label.sk-toggleable__label-arrow:before {content: \"▸\";float: left;margin-right: 0.25em;color: #696969;}#sk-container-id-1 label.sk-toggleable__label-arrow:hover:before {color: black;}#sk-container-id-1 div.sk-estimator:hover label.sk-toggleable__label-arrow:before {color: black;}#sk-container-id-1 div.sk-toggleable__content {max-height: 0;max-width: 0;overflow: hidden;text-align: left;background-color: #f0f8ff;}#sk-container-id-1 div.sk-toggleable__content pre {margin: 0.2em;color: black;border-radius: 0.25em;background-color: #f0f8ff;}#sk-container-id-1 input.sk-toggleable__control:checked~div.sk-toggleable__content {max-height: 200px;max-width: 100%;overflow: auto;}#sk-container-id-1 input.sk-toggleable__control:checked~label.sk-toggleable__label-arrow:before {content: \"▾\";}#sk-container-id-1 div.sk-estimator input.sk-toggleable__control:checked~label.sk-toggleable__label {background-color: #d4ebff;}#sk-container-id-1 div.sk-label input.sk-toggleable__control:checked~label.sk-toggleable__label {background-color: #d4ebff;}#sk-container-id-1 input.sk-hidden--visually {border: 0;clip: rect(1px 1px 1px 1px);clip: rect(1px, 1px, 1px, 1px);height: 1px;margin: -1px;overflow: hidden;padding: 0;position: absolute;width: 1px;}#sk-container-id-1 div.sk-estimator {font-family: monospace;background-color: #f0f8ff;border: 1px dotted black;border-radius: 0.25em;box-sizing: border-box;margin-bottom: 0.5em;}#sk-container-id-1 div.sk-estimator:hover {background-color: #d4ebff;}#sk-container-id-1 div.sk-parallel-item::after {content: \"\";width: 100%;border-bottom: 1px solid gray;flex-grow: 1;}#sk-container-id-1 div.sk-label:hover label.sk-toggleable__label {background-color: #d4ebff;}#sk-container-id-1 div.sk-serial::before {content: \"\";position: absolute;border-left: 1px solid gray;box-sizing: border-box;top: 0;bottom: 0;left: 50%;z-index: 0;}#sk-container-id-1 div.sk-serial {display: flex;flex-direction: column;align-items: center;background-color: white;padding-right: 0.2em;padding-left: 0.2em;position: relative;}#sk-container-id-1 div.sk-item {position: relative;z-index: 1;}#sk-container-id-1 div.sk-parallel {display: flex;align-items: stretch;justify-content: center;background-color: white;position: relative;}#sk-container-id-1 div.sk-item::before, #sk-container-id-1 div.sk-parallel-item::before {content: \"\";position: absolute;border-left: 1px solid gray;box-sizing: border-box;top: 0;bottom: 0;left: 50%;z-index: -1;}#sk-container-id-1 div.sk-parallel-item {display: flex;flex-direction: column;z-index: 1;position: relative;background-color: white;}#sk-container-id-1 div.sk-parallel-item:first-child::after {align-self: flex-end;width: 50%;}#sk-container-id-1 div.sk-parallel-item:last-child::after {align-self: flex-start;width: 50%;}#sk-container-id-1 div.sk-parallel-item:only-child::after {width: 0;}#sk-container-id-1 div.sk-dashed-wrapped {border: 1px dashed gray;margin: 0 0.4em 0.5em 0.4em;box-sizing: border-box;padding-bottom: 0.4em;background-color: white;}#sk-container-id-1 div.sk-label label {font-family: monospace;font-weight: bold;display: inline-block;line-height: 1.2em;}#sk-container-id-1 div.sk-label-container {text-align: center;}#sk-container-id-1 div.sk-container {/* jupyter's `normalize.less` sets `[hidden] { display: none; }` but bootstrap.min.css set `[hidden] { display: none !important; }` so we also need the `!important` here to be able to override the default hidden behavior on the sphinx rendered scikit-learn.org. See: https://github.com/scikit-learn/scikit-learn/issues/21755 */display: inline-block !important;position: relative;}#sk-container-id-1 div.sk-text-repr-fallback {display: none;}</style><div id=\"sk-container-id-1\" class=\"sk-top-container\"><div class=\"sk-text-repr-fallback\"><pre>LinearRegression()</pre><b>In a Jupyter environment, please rerun this cell to show the HTML representation or trust the notebook. <br />On GitHub, the HTML representation is unable to render, please try loading this page with nbviewer.org.</b></div><div class=\"sk-container\" hidden><div class=\"sk-item\"><div class=\"sk-estimator sk-toggleable\"><input class=\"sk-toggleable__control sk-hidden--visually\" id=\"sk-estimator-id-1\" type=\"checkbox\" checked><label for=\"sk-estimator-id-1\" class=\"sk-toggleable__label sk-toggleable__label-arrow\">LinearRegression</label><div class=\"sk-toggleable__content\"><pre>LinearRegression()</pre></div></div></div></div></div>"
      ],
      "text/plain": [
       "LinearRegression()"
      ]
     },
     "execution_count": 6,
     "metadata": {},
     "output_type": "execute_result"
    }
   ],
   "source": [
    "reg = linear_model.LinearRegression()\n",
    "reg.fit(X_train, y_train)"
   ]
  },
  {
   "cell_type": "code",
   "execution_count": 7,
   "id": "5511f0b6",
   "metadata": {},
   "outputs": [],
   "source": [
    "test_data = pd.read_excel(\"C:\\\\Users\\\\fl9768\\\\Desktop\\\\Data for ML\\\\Pullback\\\\Pullback_test.xlsx\")\n",
    "X_test = test_data[[\"Pullbackload\", \"Rotation\", \"Sectionmodulus\"]]\n",
    "y_test = test_data[[\"Stressvalue\"]]"
   ]
  },
  {
   "cell_type": "code",
   "execution_count": 8,
   "id": "59a8bd5a",
   "metadata": {},
   "outputs": [],
   "source": [
    "y_pred = reg.predict(X_test)"
   ]
  },
  {
   "cell_type": "code",
   "execution_count": 9,
   "id": "be17ccc7",
   "metadata": {},
   "outputs": [
    {
     "data": {
      "text/plain": [
       "array([[18987.78416613],\n",
       "       [14269.15999015],\n",
       "       [20585.68286269],\n",
       "       [ 9241.52639882],\n",
       "       [10222.56920672],\n",
       "       [23995.49861163],\n",
       "       [24177.59083104],\n",
       "       [20845.33848783],\n",
       "       [22897.15843376],\n",
       "       [11097.26774775]])"
      ]
     },
     "execution_count": 9,
     "metadata": {},
     "output_type": "execute_result"
    }
   ],
   "source": [
    "y_pred"
   ]
  },
  {
   "cell_type": "code",
   "execution_count": 10,
   "id": "cefde6ff",
   "metadata": {},
   "outputs": [
    {
     "name": "stdout",
     "output_type": "stream",
     "text": [
      "RMSE: 583.4225850903024\n"
     ]
    }
   ],
   "source": [
    "from sklearn.metrics import mean_squared_error\n",
    "print('RMSE: {}'.format(np.sqrt(mean_squared_error(y_test, y_pred))))"
   ]
  },
  {
   "cell_type": "code",
   "execution_count": 11,
   "id": "7541497c",
   "metadata": {},
   "outputs": [
    {
     "data": {
      "text/plain": [
       "<matplotlib.collections.PathCollection at 0x23a478a6970>"
      ]
     },
     "execution_count": 11,
     "metadata": {},
     "output_type": "execute_result"
    },
    {
     "data": {
      "image/png": "[encoded data removed]",
      "text/plain": [
       "<Figure size 432x288 with 1 Axes>"
      ]
     },
     "metadata": {
      "needs_background": "light"
     },
     "output_type": "display_data"
    }
   ],
   "source": [
    "import matplotlib.pyplot as plt\n",
    "plt.scatter(y_pred, y_test)"
   ]
  },
  {
   "cell_type": "code",
   "execution_count": 12,
   "id": "60a752c6",
   "metadata": {},
   "outputs": [
    {
     "name": "stderr",
     "output_type": "stream",
     "text": [
      "C:\\Users\\fl9768\\AppData\\Local\\Temp\\ipykernel_14168\\521760255.py:1: SettingWithCopyWarning: \n",
      "A value is trying to be set on a copy of a slice from a DataFrame.\n",
      "Try using .loc[row_indexer,col_indexer] = value instead\n",
      "\n",
      "See the caveats in the documentation: https://pandas.pydata.org/pandas-docs/stable/user_guide/indexing.html#returning-a-view-versus-a-copy\n",
      "  y_test['Predicted value Linear Regression'] = y_pred\n",
      "C:\\Users\\fl9768\\AppData\\Local\\Temp\\ipykernel_14168\\521760255.py:2: SettingWithCopyWarning: \n",
      "A value is trying to be set on a copy of a slice from a DataFrame.\n",
      "Try using .loc[row_indexer,col_indexer] = value instead\n",
      "\n",
      "See the caveats in the documentation: https://pandas.pydata.org/pandas-docs/stable/user_guide/indexing.html#returning-a-view-versus-a-copy\n",
      "  y_test['Difference'] = abs(y_test['Stressvalue'] - y_test['Predicted value Linear Regression'])\n"
     ]
    },
    {
     "data": {
      "text/html": [
       "<div>\n",
       "<style scoped>\n",
       "    .dataframe tbody tr th:only-of-type {\n",
       "        vertical-align: middle;\n",
       "    }\n",
       "\n",
       "    .dataframe tbody tr th {\n",
       "        vertical-align: top;\n",
       "    }\n",
       "\n",
       "    .dataframe thead th {\n",
       "        text-align: right;\n",
       "    }\n",
       "</style>\n",
       "<table border=\"1\" class=\"dataframe\">\n",
       "  <thead>\n",
       "    <tr style=\"text-align: right;\">\n",
       "      <th></th>\n",
       "      <th>Stressvalue</th>\n",
       "      <th>Predicted value Linear Regression</th>\n",
       "      <th>Difference</th>\n",
       "    </tr>\n",
       "  </thead>\n",
       "  <tbody>\n",
       "    <tr>\n",
       "      <th>0</th>\n",
       "      <td>19316</td>\n",
       "      <td>18987.784166</td>\n",
       "      <td>328.215834</td>\n",
       "    </tr>\n",
       "    <tr>\n",
       "      <th>1</th>\n",
       "      <td>15338</td>\n",
       "      <td>14269.159990</td>\n",
       "      <td>1068.840010</td>\n",
       "    </tr>\n",
       "    <tr>\n",
       "      <th>2</th>\n",
       "      <td>20869</td>\n",
       "      <td>20585.682863</td>\n",
       "      <td>283.317137</td>\n",
       "    </tr>\n",
       "    <tr>\n",
       "      <th>3</th>\n",
       "      <td>8909</td>\n",
       "      <td>9241.526399</td>\n",
       "      <td>332.526399</td>\n",
       "    </tr>\n",
       "    <tr>\n",
       "      <th>4</th>\n",
       "      <td>9608</td>\n",
       "      <td>10222.569207</td>\n",
       "      <td>614.569207</td>\n",
       "    </tr>\n",
       "    <tr>\n",
       "      <th>5</th>\n",
       "      <td>23653</td>\n",
       "      <td>23995.498612</td>\n",
       "      <td>342.498612</td>\n",
       "    </tr>\n",
       "    <tr>\n",
       "      <th>6</th>\n",
       "      <td>24983</td>\n",
       "      <td>24177.590831</td>\n",
       "      <td>805.409169</td>\n",
       "    </tr>\n",
       "    <tr>\n",
       "      <th>7</th>\n",
       "      <td>20957</td>\n",
       "      <td>20845.338488</td>\n",
       "      <td>111.661512</td>\n",
       "    </tr>\n",
       "    <tr>\n",
       "      <th>8</th>\n",
       "      <td>23060</td>\n",
       "      <td>22897.158434</td>\n",
       "      <td>162.841566</td>\n",
       "    </tr>\n",
       "    <tr>\n",
       "      <th>9</th>\n",
       "      <td>10214</td>\n",
       "      <td>11097.267748</td>\n",
       "      <td>883.267748</td>\n",
       "    </tr>\n",
       "  </tbody>\n",
       "</table>\n",
       "</div>"
      ],
      "text/plain": [
       "   Stressvalue  Predicted value Linear Regression   Difference\n",
       "0        19316                       18987.784166   328.215834\n",
       "1        15338                       14269.159990  1068.840010\n",
       "2        20869                       20585.682863   283.317137\n",
       "3         8909                        9241.526399   332.526399\n",
       "4         9608                       10222.569207   614.569207\n",
       "5        23653                       23995.498612   342.498612\n",
       "6        24983                       24177.590831   805.409169\n",
       "7        20957                       20845.338488   111.661512\n",
       "8        23060                       22897.158434   162.841566\n",
       "9        10214                       11097.267748   883.267748"
      ]
     },
     "execution_count": 12,
     "metadata": {},
     "output_type": "execute_result"
    }
   ],
   "source": [
    "y_test['Predicted value Linear Regression'] = y_pred\n",
    "y_test['Difference'] = abs(y_test['Stressvalue'] - y_test['Predicted value Linear Regression'])\n",
    "y_test"
   ]
  },
  {
   "cell_type": "code",
   "execution_count": 13,
   "id": "91d366ae",
   "metadata": {},
   "outputs": [
    {
     "name": "stdout",
     "output_type": "stream",
     "text": [
      "[[ 4.40544135e-01  2.75280008e-03 -2.28000149e+03]]\n"
     ]
    }
   ],
   "source": [
    "print(reg.coef_)"
   ]
  },
  {
   "cell_type": "code",
   "execution_count": 14,
   "id": "060a6f7a",
   "metadata": {},
   "outputs": [],
   "source": [
    "import pickle\n",
    "pickle.dump(reg, open('pullback_lr.pkl', 'wb'))"
   ]
  },
  {
   "cell_type": "code",
   "execution_count": 15,
   "id": "a4e413fc",
   "metadata": {},
   "outputs": [
    {
     "data": {
      "text/plain": [
       "array([[18987.78416613],\n",
       "       [14269.15999015],\n",
       "       [20585.68286269],\n",
       "       [ 9241.52639882],\n",
       "       [10222.56920672],\n",
       "       [23995.49861163],\n",
       "       [24177.59083104],\n",
       "       [20845.33848783],\n",
       "       [22897.15843376],\n",
       "       [11097.26774775]])"
      ]
     },
     "execution_count": 15,
     "metadata": {},
     "output_type": "execute_result"
    }
   ],
   "source": [
    "pullback_prediction = pickle.load(open('pullback_lr.pkl', 'rb'))\n",
    "pullback_prediction.predict(X_test)"
   ]
  },
  {
   "cell_type": "code",
   "execution_count": null,
   "id": "6be799f5",
   "metadata": {},
   "outputs": [],
   "source": []
  }
 ],
 "metadata": {
  "kernelspec": {
   "display_name": "Python 3 (ipykernel)",
   "language": "python",
   "name": "python3"
  },
  "language_info": {
   "codemirror_mode": {
    "name": "ipython",
    "version": 3
   },
   "file_extension": ".py",
   "mimetype": "text/x-python",
   "name": "python",
   "nbconvert_exporter": "python",
   "pygments_lexer": "ipython3",
   "version": "3.9.12"
  }
 },
 "nbformat": 4,
 "nbformat_minor": 5
}
