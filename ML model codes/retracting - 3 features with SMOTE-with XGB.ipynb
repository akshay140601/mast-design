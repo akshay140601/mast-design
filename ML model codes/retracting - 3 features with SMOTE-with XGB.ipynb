{
 "cells": [
  {
   "cell_type": "code",
   "execution_count": 1,
   "id": "fdb5e86e",
   "metadata": {},
   "outputs": [],
   "source": [
    "import pandas as pd\n",
    "import numpy as np"
   ]
  },
  {
   "cell_type": "code",
   "execution_count": 2,
   "id": "8f281db1",
   "metadata": {},
   "outputs": [],
   "source": [
    "data = pd.read_excel(\"C:\\\\Users\\\\fl9768\\\\Desktop\\\\retracting_train.xlsx\")"
   ]
  },
  {
   "cell_type": "code",
   "execution_count": 3,
   "id": "c6c3a773",
   "metadata": {},
   "outputs": [
    {
     "data": {
      "text/html": [
       "<div>\n",
       "<style scoped>\n",
       "    .dataframe tbody tr th:only-of-type {\n",
       "        vertical-align: middle;\n",
       "    }\n",
       "\n",
       "    .dataframe tbody tr th {\n",
       "        vertical-align: top;\n",
       "    }\n",
       "\n",
       "    .dataframe thead th {\n",
       "        text-align: right;\n",
       "    }\n",
       "</style>\n",
       "<table border=\"1\" class=\"dataframe\">\n",
       "  <thead>\n",
       "    <tr style=\"text-align: right;\">\n",
       "      <th></th>\n",
       "      <th>Mast name</th>\n",
       "      <th>Load case</th>\n",
       "      <th>retracting force</th>\n",
       "      <th>section modulus (in^3)</th>\n",
       "      <th>Overhang (in)</th>\n",
       "      <th>Stress value (psi)</th>\n",
       "    </tr>\n",
       "  </thead>\n",
       "  <tbody>\n",
       "    <tr>\n",
       "      <th>0</th>\n",
       "      <td>DR410i SP</td>\n",
       "      <td>Retracting</td>\n",
       "      <td>58905.00</td>\n",
       "      <td>3.901175</td>\n",
       "      <td>367.375</td>\n",
       "      <td>19920.0</td>\n",
       "    </tr>\n",
       "    <tr>\n",
       "      <th>1</th>\n",
       "      <td>DR410i SP</td>\n",
       "      <td>0.75 retracting</td>\n",
       "      <td>44178.75</td>\n",
       "      <td>3.901175</td>\n",
       "      <td>367.375</td>\n",
       "      <td>19870.0</td>\n",
       "    </tr>\n",
       "    <tr>\n",
       "      <th>2</th>\n",
       "      <td>DR410i SP</td>\n",
       "      <td>0.8 retracting</td>\n",
       "      <td>47124.00</td>\n",
       "      <td>3.901175</td>\n",
       "      <td>367.375</td>\n",
       "      <td>19978.0</td>\n",
       "    </tr>\n",
       "    <tr>\n",
       "      <th>3</th>\n",
       "      <td>DR410i SP</td>\n",
       "      <td>1.1 retracting</td>\n",
       "      <td>64795.50</td>\n",
       "      <td>3.901175</td>\n",
       "      <td>367.375</td>\n",
       "      <td>20235.0</td>\n",
       "    </tr>\n",
       "    <tr>\n",
       "      <th>4</th>\n",
       "      <td>DR410i SP</td>\n",
       "      <td>1.2 retracting</td>\n",
       "      <td>70686.00</td>\n",
       "      <td>3.901175</td>\n",
       "      <td>367.375</td>\n",
       "      <td>21272.0</td>\n",
       "    </tr>\n",
       "  </tbody>\n",
       "</table>\n",
       "</div>"
      ],
      "text/plain": [
       "   Mast name        Load case  retracting force  section modulus (in^3)  \\\n",
       "0  DR410i SP       Retracting          58905.00                3.901175   \n",
       "1  DR410i SP  0.75 retracting          44178.75                3.901175   \n",
       "2  DR410i SP   0.8 retracting          47124.00                3.901175   \n",
       "3  DR410i SP   1.1 retracting          64795.50                3.901175   \n",
       "4  DR410i SP   1.2 retracting          70686.00                3.901175   \n",
       "\n",
       "   Overhang (in)  Stress value (psi)  \n",
       "0        367.375             19920.0  \n",
       "1        367.375             19870.0  \n",
       "2        367.375             19978.0  \n",
       "3        367.375             20235.0  \n",
       "4        367.375             21272.0  "
      ]
     },
     "execution_count": 3,
     "metadata": {},
     "output_type": "execute_result"
    }
   ],
   "source": [
    "data.head()"
   ]
  },
  {
   "cell_type": "code",
   "execution_count": 4,
   "id": "ff385d55",
   "metadata": {},
   "outputs": [
    {
     "data": {
      "text/html": [
       "<div>\n",
       "<style scoped>\n",
       "    .dataframe tbody tr th:only-of-type {\n",
       "        vertical-align: middle;\n",
       "    }\n",
       "\n",
       "    .dataframe tbody tr th {\n",
       "        vertical-align: top;\n",
       "    }\n",
       "\n",
       "    .dataframe thead th {\n",
       "        text-align: right;\n",
       "    }\n",
       "</style>\n",
       "<table border=\"1\" class=\"dataframe\">\n",
       "  <thead>\n",
       "    <tr style=\"text-align: right;\">\n",
       "      <th></th>\n",
       "      <th>retracting force</th>\n",
       "      <th>section modulus (in^3)</th>\n",
       "      <th>Overhang (in)</th>\n",
       "      <th>Stress value (psi)</th>\n",
       "    </tr>\n",
       "  </thead>\n",
       "  <tbody>\n",
       "    <tr>\n",
       "      <th>0</th>\n",
       "      <td>58905.00</td>\n",
       "      <td>3.901175</td>\n",
       "      <td>367.375</td>\n",
       "      <td>19920.0</td>\n",
       "    </tr>\n",
       "    <tr>\n",
       "      <th>1</th>\n",
       "      <td>44178.75</td>\n",
       "      <td>3.901175</td>\n",
       "      <td>367.375</td>\n",
       "      <td>19870.0</td>\n",
       "    </tr>\n",
       "    <tr>\n",
       "      <th>2</th>\n",
       "      <td>47124.00</td>\n",
       "      <td>3.901175</td>\n",
       "      <td>367.375</td>\n",
       "      <td>19978.0</td>\n",
       "    </tr>\n",
       "    <tr>\n",
       "      <th>3</th>\n",
       "      <td>64795.50</td>\n",
       "      <td>3.901175</td>\n",
       "      <td>367.375</td>\n",
       "      <td>20235.0</td>\n",
       "    </tr>\n",
       "    <tr>\n",
       "      <th>4</th>\n",
       "      <td>70686.00</td>\n",
       "      <td>3.901175</td>\n",
       "      <td>367.375</td>\n",
       "      <td>21272.0</td>\n",
       "    </tr>\n",
       "  </tbody>\n",
       "</table>\n",
       "</div>"
      ],
      "text/plain": [
       "   retracting force  section modulus (in^3)  Overhang (in)  Stress value (psi)\n",
       "0          58905.00                3.901175        367.375             19920.0\n",
       "1          44178.75                3.901175        367.375             19870.0\n",
       "2          47124.00                3.901175        367.375             19978.0\n",
       "3          64795.50                3.901175        367.375             20235.0\n",
       "4          70686.00                3.901175        367.375             21272.0"
      ]
     },
     "execution_count": 4,
     "metadata": {},
     "output_type": "execute_result"
    }
   ],
   "source": [
    "data = data.drop('Load case', axis = 'columns')\n",
    "data = data.drop('Mast name', axis = 'columns')\n",
    "data.head()"
   ]
  },
  {
   "cell_type": "code",
   "execution_count": 5,
   "id": "973efeb0",
   "metadata": {},
   "outputs": [],
   "source": [
    "import smogn"
   ]
  },
  {
   "cell_type": "code",
   "execution_count": 6,
   "id": "db4fc5af",
   "metadata": {},
   "outputs": [],
   "source": [
    "rg_mtrx = [\n",
    "\n",
    "    [8000, 1, 0],  ## over-sample (\"minority\")\n",
    "    [8500, 1, 0],\n",
    "    [9000, 1, 0],\n",
    "    [9500, 1, 0],\n",
    "#     [10000, 1, 0],\n",
    "#     [10500, 1, 0],\n",
    "#     [11000, 1, 0],\n",
    "#     [11500, 1, 0],\n",
    "#     [12000, 1, 0],\n",
    "#     [12500, 1, 0],\n",
    "#     [13000, 1, 0],\n",
    "#     [13500, 1, 0],\n",
    "#     [14000, 1, 0],\n",
    "#     [14500, 1, 0],\n",
    "#     [15000, 1, 0],\n",
    "#     [15500, 1, 0],\n",
    "#     [16000, 1, 0],\n",
    "#     [16500, 1, 0],\n",
    "#     [17000, 1, 0],\n",
    "#     [17500, 1, 0],\n",
    "#     [18000, 1, 0],\n",
    "#     [18500, 1, 0],\n",
    "#     [19000, 1, 0],\n",
    "#     [19500, 1, 0],\n",
    "#     [20000, 1, 0],\n",
    "#     [20500, 1, 0],\n",
    "#     [21000, 1, 0],\n",
    "#     [11000, 1, 0],\n",
    "#     [12500, 1, 0],\n",
    "#     [18000, 1, 0],\n",
    "#     [19000, 1, 0],\n",
    "#     [20000, 1, 0],\n",
    "    [28000, 0, 0]\n",
    "]"
   ]
  },
  {
   "cell_type": "code",
   "execution_count": 7,
   "id": "295e630c",
   "metadata": {},
   "outputs": [
    {
     "name": "stderr",
     "output_type": "stream",
     "text": [
      "dist_matrix: 100%|#####################################################################| 9/9 [00:00<00:00, 1128.78it/s]\n",
      "synth_matrix: 100%|####################################################################| 9/9 [00:00<00:00, 2254.60it/s]\n",
      "r_index: 100%|#########################################################################| 2/2 [00:00<00:00, 1004.98it/s]\n"
     ]
    }
   ],
   "source": [
    "data_smogn = smogn.smoter(data = data, y = \"Stress value (psi)\", rel_method = 'manual', rel_ctrl_pts_rg = rg_mtrx, samp_method = 'extreme')"
   ]
  },
  {
   "cell_type": "code",
   "execution_count": 8,
   "id": "a6f6b1db",
   "metadata": {
    "scrolled": false
   },
   "outputs": [
    {
     "data": {
      "text/html": [
       "<div>\n",
       "<style scoped>\n",
       "    .dataframe tbody tr th:only-of-type {\n",
       "        vertical-align: middle;\n",
       "    }\n",
       "\n",
       "    .dataframe tbody tr th {\n",
       "        vertical-align: top;\n",
       "    }\n",
       "\n",
       "    .dataframe thead th {\n",
       "        text-align: right;\n",
       "    }\n",
       "</style>\n",
       "<table border=\"1\" class=\"dataframe\">\n",
       "  <thead>\n",
       "    <tr style=\"text-align: right;\">\n",
       "      <th></th>\n",
       "      <th>retracting force</th>\n",
       "      <th>section modulus (in^3)</th>\n",
       "      <th>Overhang (in)</th>\n",
       "      <th>Stress value (psi)</th>\n",
       "    </tr>\n",
       "  </thead>\n",
       "  <tbody>\n",
       "    <tr>\n",
       "      <th>0</th>\n",
       "      <td>58905.000000</td>\n",
       "      <td>3.901175</td>\n",
       "      <td>367.375000</td>\n",
       "      <td>19920.000000</td>\n",
       "    </tr>\n",
       "    <tr>\n",
       "      <th>1</th>\n",
       "      <td>44178.750000</td>\n",
       "      <td>3.901175</td>\n",
       "      <td>367.375000</td>\n",
       "      <td>19870.000000</td>\n",
       "    </tr>\n",
       "    <tr>\n",
       "      <th>5</th>\n",
       "      <td>85883.000000</td>\n",
       "      <td>4.657866</td>\n",
       "      <td>178.205000</td>\n",
       "      <td>9721.450000</td>\n",
       "    </tr>\n",
       "    <tr>\n",
       "      <th>6</th>\n",
       "      <td>64412.250000</td>\n",
       "      <td>4.657866</td>\n",
       "      <td>178.205000</td>\n",
       "      <td>7350.700000</td>\n",
       "    </tr>\n",
       "    <tr>\n",
       "      <th>7</th>\n",
       "      <td>68706.400000</td>\n",
       "      <td>4.657866</td>\n",
       "      <td>178.205000</td>\n",
       "      <td>8156.400000</td>\n",
       "    </tr>\n",
       "    <tr>\n",
       "      <th>8</th>\n",
       "      <td>77294.700000</td>\n",
       "      <td>4.657866</td>\n",
       "      <td>178.205000</td>\n",
       "      <td>9121.800000</td>\n",
       "    </tr>\n",
       "    <tr>\n",
       "      <th>9</th>\n",
       "      <td>103059.600000</td>\n",
       "      <td>4.657866</td>\n",
       "      <td>178.205000</td>\n",
       "      <td>12018.500000</td>\n",
       "    </tr>\n",
       "    <tr>\n",
       "      <th>10</th>\n",
       "      <td>49480.500000</td>\n",
       "      <td>3.901175</td>\n",
       "      <td>209.375000</td>\n",
       "      <td>8356.700000</td>\n",
       "    </tr>\n",
       "    <tr>\n",
       "      <th>11</th>\n",
       "      <td>59376.600000</td>\n",
       "      <td>3.901175</td>\n",
       "      <td>209.375000</td>\n",
       "      <td>8587.350000</td>\n",
       "    </tr>\n",
       "    <tr>\n",
       "      <th>12</th>\n",
       "      <td>72571.400000</td>\n",
       "      <td>3.901175</td>\n",
       "      <td>209.375000</td>\n",
       "      <td>8840.000000</td>\n",
       "    </tr>\n",
       "    <tr>\n",
       "      <th>13</th>\n",
       "      <td>79168.800000</td>\n",
       "      <td>3.901175</td>\n",
       "      <td>209.375000</td>\n",
       "      <td>9003.850000</td>\n",
       "    </tr>\n",
       "    <tr>\n",
       "      <th>14</th>\n",
       "      <td>72708.000000</td>\n",
       "      <td>4.882331</td>\n",
       "      <td>450.375000</td>\n",
       "      <td>19200.000000</td>\n",
       "    </tr>\n",
       "    <tr>\n",
       "      <th>17</th>\n",
       "      <td>65437.200000</td>\n",
       "      <td>4.882331</td>\n",
       "      <td>450.375000</td>\n",
       "      <td>19150.000000</td>\n",
       "    </tr>\n",
       "    <tr>\n",
       "      <th>18</th>\n",
       "      <td>79978.800000</td>\n",
       "      <td>4.882331</td>\n",
       "      <td>450.375000</td>\n",
       "      <td>19220.000000</td>\n",
       "    </tr>\n",
       "    <tr>\n",
       "      <th>19</th>\n",
       "      <td>76341.000000</td>\n",
       "      <td>4.319538</td>\n",
       "      <td>430.000000</td>\n",
       "      <td>24401.500000</td>\n",
       "    </tr>\n",
       "    <tr>\n",
       "      <th>20</th>\n",
       "      <td>57255.750000</td>\n",
       "      <td>4.319538</td>\n",
       "      <td>430.000000</td>\n",
       "      <td>22452.000000</td>\n",
       "    </tr>\n",
       "    <tr>\n",
       "      <th>21</th>\n",
       "      <td>61072.800000</td>\n",
       "      <td>4.319538</td>\n",
       "      <td>430.000000</td>\n",
       "      <td>22472.000000</td>\n",
       "    </tr>\n",
       "    <tr>\n",
       "      <th>22</th>\n",
       "      <td>68706.900000</td>\n",
       "      <td>4.319538</td>\n",
       "      <td>430.000000</td>\n",
       "      <td>22900.000000</td>\n",
       "    </tr>\n",
       "    <tr>\n",
       "      <th>23</th>\n",
       "      <td>83975.100000</td>\n",
       "      <td>4.319538</td>\n",
       "      <td>430.000000</td>\n",
       "      <td>24402.000000</td>\n",
       "    </tr>\n",
       "    <tr>\n",
       "      <th>25</th>\n",
       "      <td>95426.000000</td>\n",
       "      <td>4.319538</td>\n",
       "      <td>426.000000</td>\n",
       "      <td>20850.000000</td>\n",
       "    </tr>\n",
       "    <tr>\n",
       "      <th>26</th>\n",
       "      <td>71569.500000</td>\n",
       "      <td>4.319538</td>\n",
       "      <td>426.000000</td>\n",
       "      <td>20371.000000</td>\n",
       "    </tr>\n",
       "    <tr>\n",
       "      <th>27</th>\n",
       "      <td>85883.400000</td>\n",
       "      <td>4.319538</td>\n",
       "      <td>426.000000</td>\n",
       "      <td>20560.000000</td>\n",
       "    </tr>\n",
       "    <tr>\n",
       "      <th>0</th>\n",
       "      <td>65691.851181</td>\n",
       "      <td>4.657866</td>\n",
       "      <td>178.205000</td>\n",
       "      <td>7732.619185</td>\n",
       "    </tr>\n",
       "    <tr>\n",
       "      <th>1</th>\n",
       "      <td>71457.714992</td>\n",
       "      <td>4.119213</td>\n",
       "      <td>200.393483</td>\n",
       "      <td>8484.452708</td>\n",
       "    </tr>\n",
       "    <tr>\n",
       "      <th>2</th>\n",
       "      <td>49647.686592</td>\n",
       "      <td>3.887232</td>\n",
       "      <td>208.941509</td>\n",
       "      <td>8343.729280</td>\n",
       "    </tr>\n",
       "    <tr>\n",
       "      <th>3</th>\n",
       "      <td>59791.981392</td>\n",
       "      <td>3.891484</td>\n",
       "      <td>209.438829</td>\n",
       "      <td>8583.031958</td>\n",
       "    </tr>\n",
       "    <tr>\n",
       "      <th>4</th>\n",
       "      <td>71470.724399</td>\n",
       "      <td>4.116666</td>\n",
       "      <td>200.498400</td>\n",
       "      <td>8484.452708</td>\n",
       "    </tr>\n",
       "    <tr>\n",
       "      <th>5</th>\n",
       "      <td>79177.718488</td>\n",
       "      <td>3.911429</td>\n",
       "      <td>209.398749</td>\n",
       "      <td>9024.541504</td>\n",
       "    </tr>\n",
       "    <tr>\n",
       "      <th>6</th>\n",
       "      <td>77076.655939</td>\n",
       "      <td>4.658517</td>\n",
       "      <td>177.978839</td>\n",
       "      <td>9118.589475</td>\n",
       "    </tr>\n",
       "    <tr>\n",
       "      <th>7</th>\n",
       "      <td>85949.920530</td>\n",
       "      <td>4.651289</td>\n",
       "      <td>178.013362</td>\n",
       "      <td>9735.943795</td>\n",
       "    </tr>\n",
       "    <tr>\n",
       "      <th>8</th>\n",
       "      <td>102500.895533</td>\n",
       "      <td>4.657059</td>\n",
       "      <td>178.433394</td>\n",
       "      <td>12038.938375</td>\n",
       "    </tr>\n",
       "    <tr>\n",
       "      <th>9</th>\n",
       "      <td>56459.837772</td>\n",
       "      <td>3.901175</td>\n",
       "      <td>209.375000</td>\n",
       "      <td>8470.455144</td>\n",
       "    </tr>\n",
       "    <tr>\n",
       "      <th>10</th>\n",
       "      <td>72243.637116</td>\n",
       "      <td>3.907016</td>\n",
       "      <td>209.191467</td>\n",
       "      <td>8805.931385</td>\n",
       "    </tr>\n",
       "  </tbody>\n",
       "</table>\n",
       "</div>"
      ],
      "text/plain": [
       "    retracting force  section modulus (in^3)  Overhang (in)  \\\n",
       "0       58905.000000                3.901175     367.375000   \n",
       "1       44178.750000                3.901175     367.375000   \n",
       "5       85883.000000                4.657866     178.205000   \n",
       "6       64412.250000                4.657866     178.205000   \n",
       "7       68706.400000                4.657866     178.205000   \n",
       "8       77294.700000                4.657866     178.205000   \n",
       "9      103059.600000                4.657866     178.205000   \n",
       "10      49480.500000                3.901175     209.375000   \n",
       "11      59376.600000                3.901175     209.375000   \n",
       "12      72571.400000                3.901175     209.375000   \n",
       "13      79168.800000                3.901175     209.375000   \n",
       "14      72708.000000                4.882331     450.375000   \n",
       "17      65437.200000                4.882331     450.375000   \n",
       "18      79978.800000                4.882331     450.375000   \n",
       "19      76341.000000                4.319538     430.000000   \n",
       "20      57255.750000                4.319538     430.000000   \n",
       "21      61072.800000                4.319538     430.000000   \n",
       "22      68706.900000                4.319538     430.000000   \n",
       "23      83975.100000                4.319538     430.000000   \n",
       "25      95426.000000                4.319538     426.000000   \n",
       "26      71569.500000                4.319538     426.000000   \n",
       "27      85883.400000                4.319538     426.000000   \n",
       "0       65691.851181                4.657866     178.205000   \n",
       "1       71457.714992                4.119213     200.393483   \n",
       "2       49647.686592                3.887232     208.941509   \n",
       "3       59791.981392                3.891484     209.438829   \n",
       "4       71470.724399                4.116666     200.498400   \n",
       "5       79177.718488                3.911429     209.398749   \n",
       "6       77076.655939                4.658517     177.978839   \n",
       "7       85949.920530                4.651289     178.013362   \n",
       "8      102500.895533                4.657059     178.433394   \n",
       "9       56459.837772                3.901175     209.375000   \n",
       "10      72243.637116                3.907016     209.191467   \n",
       "\n",
       "    Stress value (psi)  \n",
       "0         19920.000000  \n",
       "1         19870.000000  \n",
       "5          9721.450000  \n",
       "6          7350.700000  \n",
       "7          8156.400000  \n",
       "8          9121.800000  \n",
       "9         12018.500000  \n",
       "10         8356.700000  \n",
       "11         8587.350000  \n",
       "12         8840.000000  \n",
       "13         9003.850000  \n",
       "14        19200.000000  \n",
       "17        19150.000000  \n",
       "18        19220.000000  \n",
       "19        24401.500000  \n",
       "20        22452.000000  \n",
       "21        22472.000000  \n",
       "22        22900.000000  \n",
       "23        24402.000000  \n",
       "25        20850.000000  \n",
       "26        20371.000000  \n",
       "27        20560.000000  \n",
       "0          7732.619185  \n",
       "1          8484.452708  \n",
       "2          8343.729280  \n",
       "3          8583.031958  \n",
       "4          8484.452708  \n",
       "5          9024.541504  \n",
       "6          9118.589475  \n",
       "7          9735.943795  \n",
       "8         12038.938375  \n",
       "9          8470.455144  \n",
       "10         8805.931385  "
      ]
     },
     "execution_count": 8,
     "metadata": {},
     "output_type": "execute_result"
    }
   ],
   "source": [
    "data_smogn"
   ]
  },
  {
   "cell_type": "code",
   "execution_count": 9,
   "id": "d62882af",
   "metadata": {},
   "outputs": [
    {
     "data": {
      "text/plain": [
       "(30, 4)"
      ]
     },
     "execution_count": 9,
     "metadata": {},
     "output_type": "execute_result"
    }
   ],
   "source": [
    "data.shape"
   ]
  },
  {
   "cell_type": "code",
   "execution_count": 10,
   "id": "c0c387ef",
   "metadata": {},
   "outputs": [
    {
     "data": {
      "text/plain": [
       "(33, 4)"
      ]
     },
     "execution_count": 10,
     "metadata": {},
     "output_type": "execute_result"
    }
   ],
   "source": [
    "data_smogn.shape"
   ]
  },
  {
   "cell_type": "code",
   "execution_count": 11,
   "id": "34927410",
   "metadata": {
    "scrolled": true
   },
   "outputs": [
    {
     "data": {
      "text/html": [
       "<div>\n",
       "<style scoped>\n",
       "    .dataframe tbody tr th:only-of-type {\n",
       "        vertical-align: middle;\n",
       "    }\n",
       "\n",
       "    .dataframe tbody tr th {\n",
       "        vertical-align: top;\n",
       "    }\n",
       "\n",
       "    .dataframe thead th {\n",
       "        text-align: right;\n",
       "    }\n",
       "</style>\n",
       "<table border=\"1\" class=\"dataframe\">\n",
       "  <thead>\n",
       "    <tr style=\"text-align: right;\">\n",
       "      <th></th>\n",
       "      <th>retracting force</th>\n",
       "      <th>section modulus (in^3)</th>\n",
       "      <th>Overhang (in)</th>\n",
       "      <th>Stress value (psi)</th>\n",
       "    </tr>\n",
       "  </thead>\n",
       "  <tbody>\n",
       "    <tr>\n",
       "      <th>0</th>\n",
       "      <td>58905.000000</td>\n",
       "      <td>3.901175</td>\n",
       "      <td>367.375000</td>\n",
       "      <td>19920.000000</td>\n",
       "    </tr>\n",
       "    <tr>\n",
       "      <th>1</th>\n",
       "      <td>44178.750000</td>\n",
       "      <td>3.901175</td>\n",
       "      <td>367.375000</td>\n",
       "      <td>19870.000000</td>\n",
       "    </tr>\n",
       "    <tr>\n",
       "      <th>2</th>\n",
       "      <td>47124.000000</td>\n",
       "      <td>3.901175</td>\n",
       "      <td>367.375000</td>\n",
       "      <td>19978.000000</td>\n",
       "    </tr>\n",
       "    <tr>\n",
       "      <th>3</th>\n",
       "      <td>64795.500000</td>\n",
       "      <td>3.901175</td>\n",
       "      <td>367.375000</td>\n",
       "      <td>20235.000000</td>\n",
       "    </tr>\n",
       "    <tr>\n",
       "      <th>4</th>\n",
       "      <td>70686.000000</td>\n",
       "      <td>3.901175</td>\n",
       "      <td>367.375000</td>\n",
       "      <td>21272.000000</td>\n",
       "    </tr>\n",
       "    <tr>\n",
       "      <th>...</th>\n",
       "      <td>...</td>\n",
       "      <td>...</td>\n",
       "      <td>...</td>\n",
       "      <td>...</td>\n",
       "    </tr>\n",
       "    <tr>\n",
       "      <th>6</th>\n",
       "      <td>77076.655939</td>\n",
       "      <td>4.658517</td>\n",
       "      <td>177.978839</td>\n",
       "      <td>9118.589475</td>\n",
       "    </tr>\n",
       "    <tr>\n",
       "      <th>7</th>\n",
       "      <td>85949.920530</td>\n",
       "      <td>4.651289</td>\n",
       "      <td>178.013362</td>\n",
       "      <td>9735.943795</td>\n",
       "    </tr>\n",
       "    <tr>\n",
       "      <th>8</th>\n",
       "      <td>102500.895533</td>\n",
       "      <td>4.657059</td>\n",
       "      <td>178.433394</td>\n",
       "      <td>12038.938375</td>\n",
       "    </tr>\n",
       "    <tr>\n",
       "      <th>9</th>\n",
       "      <td>56459.837772</td>\n",
       "      <td>3.901175</td>\n",
       "      <td>209.375000</td>\n",
       "      <td>8470.455144</td>\n",
       "    </tr>\n",
       "    <tr>\n",
       "      <th>10</th>\n",
       "      <td>72243.637116</td>\n",
       "      <td>3.907016</td>\n",
       "      <td>209.191467</td>\n",
       "      <td>8805.931385</td>\n",
       "    </tr>\n",
       "  </tbody>\n",
       "</table>\n",
       "<p>63 rows × 4 columns</p>\n",
       "</div>"
      ],
      "text/plain": [
       "    retracting force  section modulus (in^3)  Overhang (in)  \\\n",
       "0       58905.000000                3.901175     367.375000   \n",
       "1       44178.750000                3.901175     367.375000   \n",
       "2       47124.000000                3.901175     367.375000   \n",
       "3       64795.500000                3.901175     367.375000   \n",
       "4       70686.000000                3.901175     367.375000   \n",
       "..               ...                     ...            ...   \n",
       "6       77076.655939                4.658517     177.978839   \n",
       "7       85949.920530                4.651289     178.013362   \n",
       "8      102500.895533                4.657059     178.433394   \n",
       "9       56459.837772                3.901175     209.375000   \n",
       "10      72243.637116                3.907016     209.191467   \n",
       "\n",
       "    Stress value (psi)  \n",
       "0         19920.000000  \n",
       "1         19870.000000  \n",
       "2         19978.000000  \n",
       "3         20235.000000  \n",
       "4         21272.000000  \n",
       "..                 ...  \n",
       "6          9118.589475  \n",
       "7          9735.943795  \n",
       "8         12038.938375  \n",
       "9          8470.455144  \n",
       "10         8805.931385  \n",
       "\n",
       "[63 rows x 4 columns]"
      ]
     },
     "execution_count": 11,
     "metadata": {},
     "output_type": "execute_result"
    }
   ],
   "source": [
    "frames = [data, data_smogn]\n",
    "df = pd.concat(frames)\n",
    "df"
   ]
  },
  {
   "cell_type": "code",
   "execution_count": 12,
   "id": "8740d5a9",
   "metadata": {},
   "outputs": [
    {
     "data": {
      "text/plain": [
       "(63, 4)"
      ]
     },
     "execution_count": 12,
     "metadata": {},
     "output_type": "execute_result"
    }
   ],
   "source": [
    "df.shape"
   ]
  },
  {
   "cell_type": "code",
   "execution_count": 13,
   "id": "487a1267",
   "metadata": {},
   "outputs": [],
   "source": [
    "X_train = df[['retracting force', 'section modulus (in^3)', 'Overhang (in)']]\n",
    "y_train = df[[\"Stress value (psi)\"]]"
   ]
  },
  {
   "cell_type": "code",
   "execution_count": 14,
   "id": "7e3df346",
   "metadata": {},
   "outputs": [],
   "source": [
    "import xgboost as xgb\n",
    "# from sklearn.model_selection import GridSearchCV\n",
    "# param_grid = {\"max_depth\":    [2, 3, 4, 5, 6],\n",
    "#               \"n_estimators\": [175, 200, 300, 400, 500, 600, 700, 800, 900, 1000], \"learning_rate\": [0.02, 0.025, 0.03, 0.035, 0.04, 0.045, 0.05]}\n",
    "# xgb_model = xgb.XGBRegressor(eval_metric = 'rmsle')\n",
    "# search = GridSearchCV(xgb_model, param_grid, cv=5).fit(X_train, y_train.values.ravel())\n",
    "# print(\"The best hyperparameters are \",search.best_params_)"
   ]
  },
  {
   "cell_type": "code",
   "execution_count": 15,
   "id": "a34bc177",
   "metadata": {},
   "outputs": [],
   "source": [
    "xgb_model = xgb.XGBRegressor(max_depth = 3, n_estimators = 750, learning_rate = 0.02)"
   ]
  },
  {
   "cell_type": "code",
   "execution_count": 16,
   "id": "80a6e28b",
   "metadata": {},
   "outputs": [
    {
     "data": {
      "text/html": [
       "<style>#sk-container-id-1 {color: black;background-color: white;}#sk-container-id-1 pre{padding: 0;}#sk-container-id-1 div.sk-toggleable {background-color: white;}#sk-container-id-1 label.sk-toggleable__label {cursor: pointer;display: block;width: 100%;margin-bottom: 0;padding: 0.3em;box-sizing: border-box;text-align: center;}#sk-container-id-1 label.sk-toggleable__label-arrow:before {content: \"▸\";float: left;margin-right: 0.25em;color: #696969;}#sk-container-id-1 label.sk-toggleable__label-arrow:hover:before {color: black;}#sk-container-id-1 div.sk-estimator:hover label.sk-toggleable__label-arrow:before {color: black;}#sk-container-id-1 div.sk-toggleable__content {max-height: 0;max-width: 0;overflow: hidden;text-align: left;background-color: #f0f8ff;}#sk-container-id-1 div.sk-toggleable__content pre {margin: 0.2em;color: black;border-radius: 0.25em;background-color: #f0f8ff;}#sk-container-id-1 input.sk-toggleable__control:checked~div.sk-toggleable__content {max-height: 200px;max-width: 100%;overflow: auto;}#sk-container-id-1 input.sk-toggleable__control:checked~label.sk-toggleable__label-arrow:before {content: \"▾\";}#sk-container-id-1 div.sk-estimator input.sk-toggleable__control:checked~label.sk-toggleable__label {background-color: #d4ebff;}#sk-container-id-1 div.sk-label input.sk-toggleable__control:checked~label.sk-toggleable__label {background-color: #d4ebff;}#sk-container-id-1 input.sk-hidden--visually {border: 0;clip: rect(1px 1px 1px 1px);clip: rect(1px, 1px, 1px, 1px);height: 1px;margin: -1px;overflow: hidden;padding: 0;position: absolute;width: 1px;}#sk-container-id-1 div.sk-estimator {font-family: monospace;background-color: #f0f8ff;border: 1px dotted black;border-radius: 0.25em;box-sizing: border-box;margin-bottom: 0.5em;}#sk-container-id-1 div.sk-estimator:hover {background-color: #d4ebff;}#sk-container-id-1 div.sk-parallel-item::after {content: \"\";width: 100%;border-bottom: 1px solid gray;flex-grow: 1;}#sk-container-id-1 div.sk-label:hover label.sk-toggleable__label {background-color: #d4ebff;}#sk-container-id-1 div.sk-serial::before {content: \"\";position: absolute;border-left: 1px solid gray;box-sizing: border-box;top: 0;bottom: 0;left: 50%;z-index: 0;}#sk-container-id-1 div.sk-serial {display: flex;flex-direction: column;align-items: center;background-color: white;padding-right: 0.2em;padding-left: 0.2em;position: relative;}#sk-container-id-1 div.sk-item {position: relative;z-index: 1;}#sk-container-id-1 div.sk-parallel {display: flex;align-items: stretch;justify-content: center;background-color: white;position: relative;}#sk-container-id-1 div.sk-item::before, #sk-container-id-1 div.sk-parallel-item::before {content: \"\";position: absolute;border-left: 1px solid gray;box-sizing: border-box;top: 0;bottom: 0;left: 50%;z-index: -1;}#sk-container-id-1 div.sk-parallel-item {display: flex;flex-direction: column;z-index: 1;position: relative;background-color: white;}#sk-container-id-1 div.sk-parallel-item:first-child::after {align-self: flex-end;width: 50%;}#sk-container-id-1 div.sk-parallel-item:last-child::after {align-self: flex-start;width: 50%;}#sk-container-id-1 div.sk-parallel-item:only-child::after {width: 0;}#sk-container-id-1 div.sk-dashed-wrapped {border: 1px dashed gray;margin: 0 0.4em 0.5em 0.4em;box-sizing: border-box;padding-bottom: 0.4em;background-color: white;}#sk-container-id-1 div.sk-label label {font-family: monospace;font-weight: bold;display: inline-block;line-height: 1.2em;}#sk-container-id-1 div.sk-label-container {text-align: center;}#sk-container-id-1 div.sk-container {/* jupyter's `normalize.less` sets `[hidden] { display: none; }` but bootstrap.min.css set `[hidden] { display: none !important; }` so we also need the `!important` here to be able to override the default hidden behavior on the sphinx rendered scikit-learn.org. See: https://github.com/scikit-learn/scikit-learn/issues/21755 */display: inline-block !important;position: relative;}#sk-container-id-1 div.sk-text-repr-fallback {display: none;}</style><div id=\"sk-container-id-1\" class=\"sk-top-container\"><div class=\"sk-text-repr-fallback\"><pre>XGBRegressor(base_score=0.5, booster=&#x27;gbtree&#x27;, callbacks=None,\n",
       "             colsample_bylevel=1, colsample_bynode=1, colsample_bytree=1,\n",
       "             early_stopping_rounds=None, enable_categorical=False,\n",
       "             eval_metric=None, feature_types=None, gamma=0, gpu_id=-1,\n",
       "             grow_policy=&#x27;depthwise&#x27;, importance_type=None,\n",
       "             interaction_constraints=&#x27;&#x27;, learning_rate=0.02, max_bin=256,\n",
       "             max_cat_threshold=64, max_cat_to_onehot=4, max_delta_step=0,\n",
       "             max_depth=3, max_leaves=0, min_child_weight=1, missing=nan,\n",
       "             monotone_constraints=&#x27;()&#x27;, n_estimators=750, n_jobs=0,\n",
       "             num_parallel_tree=1, predictor=&#x27;auto&#x27;, random_state=0, ...)</pre><b>In a Jupyter environment, please rerun this cell to show the HTML representation or trust the notebook. <br />On GitHub, the HTML representation is unable to render, please try loading this page with nbviewer.org.</b></div><div class=\"sk-container\" hidden><div class=\"sk-item\"><div class=\"sk-estimator sk-toggleable\"><input class=\"sk-toggleable__control sk-hidden--visually\" id=\"sk-estimator-id-1\" type=\"checkbox\" checked><label for=\"sk-estimator-id-1\" class=\"sk-toggleable__label sk-toggleable__label-arrow\">XGBRegressor</label><div class=\"sk-toggleable__content\"><pre>XGBRegressor(base_score=0.5, booster=&#x27;gbtree&#x27;, callbacks=None,\n",
       "             colsample_bylevel=1, colsample_bynode=1, colsample_bytree=1,\n",
       "             early_stopping_rounds=None, enable_categorical=False,\n",
       "             eval_metric=None, feature_types=None, gamma=0, gpu_id=-1,\n",
       "             grow_policy=&#x27;depthwise&#x27;, importance_type=None,\n",
       "             interaction_constraints=&#x27;&#x27;, learning_rate=0.02, max_bin=256,\n",
       "             max_cat_threshold=64, max_cat_to_onehot=4, max_delta_step=0,\n",
       "             max_depth=3, max_leaves=0, min_child_weight=1, missing=nan,\n",
       "             monotone_constraints=&#x27;()&#x27;, n_estimators=750, n_jobs=0,\n",
       "             num_parallel_tree=1, predictor=&#x27;auto&#x27;, random_state=0, ...)</pre></div></div></div></div></div>"
      ],
      "text/plain": [
       "XGBRegressor(base_score=0.5, booster='gbtree', callbacks=None,\n",
       "             colsample_bylevel=1, colsample_bynode=1, colsample_bytree=1,\n",
       "             early_stopping_rounds=None, enable_categorical=False,\n",
       "             eval_metric=None, feature_types=None, gamma=0, gpu_id=-1,\n",
       "             grow_policy='depthwise', importance_type=None,\n",
       "             interaction_constraints='', learning_rate=0.02, max_bin=256,\n",
       "             max_cat_threshold=64, max_cat_to_onehot=4, max_delta_step=0,\n",
       "             max_depth=3, max_leaves=0, min_child_weight=1, missing=nan,\n",
       "             monotone_constraints='()', n_estimators=750, n_jobs=0,\n",
       "             num_parallel_tree=1, predictor='auto', random_state=0, ...)"
      ]
     },
     "execution_count": 16,
     "metadata": {},
     "output_type": "execute_result"
    }
   ],
   "source": [
    "xgb_model.fit(X_train, y_train.values.ravel())"
   ]
  },
  {
   "cell_type": "code",
   "execution_count": 17,
   "id": "4bb934fe",
   "metadata": {},
   "outputs": [],
   "source": [
    "test_data = pd.read_excel(\"C:\\\\Users\\\\fl9768\\\\Desktop\\\\retracting_test.xlsx\")\n",
    "X_test = test_data[['retracting force', 'section modulus (in^3)', 'Overhang (in)']]\n",
    "y_test = test_data[['Stress value (psi)']]"
   ]
  },
  {
   "cell_type": "code",
   "execution_count": 18,
   "id": "175a2154",
   "metadata": {},
   "outputs": [],
   "source": [
    "y_pred_xgb = xgb_model.predict(X_test)"
   ]
  },
  {
   "cell_type": "code",
   "execution_count": 19,
   "id": "b35860fe",
   "metadata": {},
   "outputs": [
    {
     "data": {
      "text/plain": [
       "array([19977.965, 11714.85 ,  8583.539,  8432.208, 19350.395, 20760.463],\n",
       "      dtype=float32)"
      ]
     },
     "execution_count": 19,
     "metadata": {},
     "output_type": "execute_result"
    }
   ],
   "source": [
    "y_pred_xgb"
   ]
  },
  {
   "cell_type": "code",
   "execution_count": 20,
   "id": "86cf15b9",
   "metadata": {},
   "outputs": [
    {
     "name": "stdout",
     "output_type": "stream",
     "text": [
      "RMSE: 320.26341724926715\n"
     ]
    }
   ],
   "source": [
    "from sklearn.metrics import mean_squared_error\n",
    "print('RMSE: {}'.format(np.sqrt(mean_squared_error(y_test, y_pred_xgb))))"
   ]
  },
  {
   "cell_type": "code",
   "execution_count": 21,
   "id": "4f80323a",
   "metadata": {},
   "outputs": [
    {
     "data": {
      "text/plain": [
       "<matplotlib.collections.PathCollection at 0x17a1e8db400>"
      ]
     },
     "execution_count": 21,
     "metadata": {},
     "output_type": "execute_result"
    },
    {
     "data": {
      "image/png": "[encoded data removed]",
      "text/plain": [
       "<Figure size 432x288 with 1 Axes>"
      ]
     },
     "metadata": {
      "needs_background": "light"
     },
     "output_type": "display_data"
    }
   ],
   "source": [
    "import matplotlib.pyplot as plt\n",
    "plt.scatter(y_pred_xgb, y_test)"
   ]
  },
  {
   "cell_type": "code",
   "execution_count": 22,
   "id": "13a025da",
   "metadata": {},
   "outputs": [
    {
     "name": "stderr",
     "output_type": "stream",
     "text": [
      "C:\\Users\\fl9768\\AppData\\Local\\Temp\\ipykernel_4116\\1058324115.py:1: SettingWithCopyWarning: \n",
      "A value is trying to be set on a copy of a slice from a DataFrame.\n",
      "Try using .loc[row_indexer,col_indexer] = value instead\n",
      "\n",
      "See the caveats in the documentation: https://pandas.pydata.org/pandas-docs/stable/user_guide/indexing.html#returning-a-view-versus-a-copy\n",
      "  y_test['Predicted value RF'] = y_pred_xgb\n",
      "C:\\Users\\fl9768\\AppData\\Local\\Temp\\ipykernel_4116\\1058324115.py:2: SettingWithCopyWarning: \n",
      "A value is trying to be set on a copy of a slice from a DataFrame.\n",
      "Try using .loc[row_indexer,col_indexer] = value instead\n",
      "\n",
      "See the caveats in the documentation: https://pandas.pydata.org/pandas-docs/stable/user_guide/indexing.html#returning-a-view-versus-a-copy\n",
      "  y_test['Difference'] = abs(y_test['Stress value (psi)'] - y_test['Predicted value RF'])\n"
     ]
    },
    {
     "data": {
      "text/html": [
       "<div>\n",
       "<style scoped>\n",
       "    .dataframe tbody tr th:only-of-type {\n",
       "        vertical-align: middle;\n",
       "    }\n",
       "\n",
       "    .dataframe tbody tr th {\n",
       "        vertical-align: top;\n",
       "    }\n",
       "\n",
       "    .dataframe thead th {\n",
       "        text-align: right;\n",
       "    }\n",
       "</style>\n",
       "<table border=\"1\" class=\"dataframe\">\n",
       "  <thead>\n",
       "    <tr style=\"text-align: right;\">\n",
       "      <th></th>\n",
       "      <th>Stress value (psi)</th>\n",
       "      <th>Predicted value RF</th>\n",
       "      <th>Difference</th>\n",
       "    </tr>\n",
       "  </thead>\n",
       "  <tbody>\n",
       "    <tr>\n",
       "      <th>0</th>\n",
       "      <td>19996.00</td>\n",
       "      <td>19977.964844</td>\n",
       "      <td>18.035156</td>\n",
       "    </tr>\n",
       "    <tr>\n",
       "      <th>1</th>\n",
       "      <td>11053.00</td>\n",
       "      <td>11714.849609</td>\n",
       "      <td>661.849609</td>\n",
       "    </tr>\n",
       "    <tr>\n",
       "      <th>2</th>\n",
       "      <td>8715.85</td>\n",
       "      <td>8583.539062</td>\n",
       "      <td>132.310938</td>\n",
       "    </tr>\n",
       "    <tr>\n",
       "      <th>3</th>\n",
       "      <td>8449.20</td>\n",
       "      <td>8432.208008</td>\n",
       "      <td>16.991992</td>\n",
       "    </tr>\n",
       "    <tr>\n",
       "      <th>4</th>\n",
       "      <td>19230.00</td>\n",
       "      <td>19350.394531</td>\n",
       "      <td>120.394531</td>\n",
       "    </tr>\n",
       "    <tr>\n",
       "      <th>5</th>\n",
       "      <td>20380.00</td>\n",
       "      <td>20760.462891</td>\n",
       "      <td>380.462891</td>\n",
       "    </tr>\n",
       "  </tbody>\n",
       "</table>\n",
       "</div>"
      ],
      "text/plain": [
       "   Stress value (psi)  Predicted value RF  Difference\n",
       "0            19996.00        19977.964844   18.035156\n",
       "1            11053.00        11714.849609  661.849609\n",
       "2             8715.85         8583.539062  132.310938\n",
       "3             8449.20         8432.208008   16.991992\n",
       "4            19230.00        19350.394531  120.394531\n",
       "5            20380.00        20760.462891  380.462891"
      ]
     },
     "execution_count": 22,
     "metadata": {},
     "output_type": "execute_result"
    }
   ],
   "source": [
    "y_test['Predicted value RF'] = y_pred_xgb\n",
    "y_test['Difference'] = abs(y_test['Stress value (psi)'] - y_test['Predicted value RF'])\n",
    "y_test"
   ]
  },
  {
   "cell_type": "code",
   "execution_count": 25,
   "id": "3adcf34b",
   "metadata": {},
   "outputs": [],
   "source": [
    "import pickle\n",
    "pickle.dump(xgb_model, open('retracting_xgb.pkl', 'wb'))"
   ]
  },
  {
   "cell_type": "code",
   "execution_count": 26,
   "id": "ad325851",
   "metadata": {},
   "outputs": [
    {
     "data": {
      "text/plain": [
       "array([19977.965, 11714.85 ,  8583.539,  8432.208, 19350.395, 20760.463],\n",
       "      dtype=float32)"
      ]
     },
     "execution_count": 26,
     "metadata": {},
     "output_type": "execute_result"
    }
   ],
   "source": [
    "retracting_prediction = pickle.load(open('retracting_xgb.pkl', 'rb'))\n",
    "retracting_prediction.predict(X_test)"
   ]
  }
 ],
 "metadata": {
  "kernelspec": {
   "display_name": "Python 3 (ipykernel)",
   "language": "python",
   "name": "python3"
  },
  "language_info": {
   "codemirror_mode": {
    "name": "ipython",
    "version": 3
   },
   "file_extension": ".py",
   "mimetype": "text/x-python",
   "name": "python",
   "nbconvert_exporter": "python",
   "pygments_lexer": "ipython3",
   "version": "3.9.12"
  }
 },
 "nbformat": 4,
 "nbformat_minor": 5
}
