{
 "cells": [
  {
   "cell_type": "markdown",
   "id": "1aa8274e",
   "metadata": {},
   "source": [
    "import pandas as pd\n",
    "import numpy as np\n",
    "import xgboost as xgb"
   ]
  },
  {
   "cell_type": "code",
   "execution_count": 2,
   "id": "8f281db1",
   "metadata": {},
   "outputs": [],
   "source": [
    "data = pd.read_excel(\"C:\\\\Users\\\\fl9768\\\\Desktop\\\\Data for ML\\\\Fatigue\\\\Loc-1\\\\Just lift - Loc - 1_train.xlsx\")"
   ]
  },
  {
   "cell_type": "code",
   "execution_count": 3,
   "id": "c6c3a773",
   "metadata": {},
   "outputs": [
    {
     "data": {
      "text/html": [
       "<div>\n",
       "<style scoped>\n",
       "    .dataframe tbody tr th:only-of-type {\n",
       "        vertical-align: middle;\n",
       "    }\n",
       "\n",
       "    .dataframe tbody tr th {\n",
       "        vertical-align: top;\n",
       "    }\n",
       "\n",
       "    .dataframe thead th {\n",
       "        text-align: right;\n",
       "    }\n",
       "</style>\n",
       "<table border=\"1\" class=\"dataframe\">\n",
       "  <thead>\n",
       "    <tr style=\"text-align: right;\">\n",
       "      <th></th>\n",
       "      <th>Mast name</th>\n",
       "      <th>Load case</th>\n",
       "      <th>Mastweight</th>\n",
       "      <th>Sectionmodulus</th>\n",
       "      <th>Mastdepth</th>\n",
       "      <th>Overhang</th>\n",
       "      <th>Stressvalue</th>\n",
       "    </tr>\n",
       "  </thead>\n",
       "  <tbody>\n",
       "    <tr>\n",
       "      <th>0</th>\n",
       "      <td>DR410i SP</td>\n",
       "      <td>1G Self weight</td>\n",
       "      <td>22491.0</td>\n",
       "      <td>8.472106</td>\n",
       "      <td>28</td>\n",
       "      <td>594</td>\n",
       "      <td>-20692</td>\n",
       "    </tr>\n",
       "    <tr>\n",
       "      <th>1</th>\n",
       "      <td>DR410i SP</td>\n",
       "      <td>1.1G Self weight</td>\n",
       "      <td>24740.1</td>\n",
       "      <td>8.472106</td>\n",
       "      <td>28</td>\n",
       "      <td>594</td>\n",
       "      <td>-22670</td>\n",
       "    </tr>\n",
       "    <tr>\n",
       "      <th>2</th>\n",
       "      <td>DR410i SP</td>\n",
       "      <td>1.2G Self weight</td>\n",
       "      <td>26989.2</td>\n",
       "      <td>8.472106</td>\n",
       "      <td>28</td>\n",
       "      <td>594</td>\n",
       "      <td>-24661</td>\n",
       "    </tr>\n",
       "    <tr>\n",
       "      <th>3</th>\n",
       "      <td>DR410i SP</td>\n",
       "      <td>1.3G Self weight</td>\n",
       "      <td>29238.3</td>\n",
       "      <td>8.472106</td>\n",
       "      <td>28</td>\n",
       "      <td>594</td>\n",
       "      <td>-26628</td>\n",
       "    </tr>\n",
       "    <tr>\n",
       "      <th>4</th>\n",
       "      <td>DR410i SP</td>\n",
       "      <td>0.9G Self weight</td>\n",
       "      <td>20241.9</td>\n",
       "      <td>8.472106</td>\n",
       "      <td>28</td>\n",
       "      <td>594</td>\n",
       "      <td>-18723</td>\n",
       "    </tr>\n",
       "  </tbody>\n",
       "</table>\n",
       "</div>"
      ],
      "text/plain": [
       "   Mast name         Load case  Mastweight  Sectionmodulus  Mastdepth  \\\n",
       "0  DR410i SP    1G Self weight     22491.0        8.472106         28   \n",
       "1  DR410i SP  1.1G Self weight     24740.1        8.472106         28   \n",
       "2  DR410i SP  1.2G Self weight     26989.2        8.472106         28   \n",
       "3  DR410i SP  1.3G Self weight     29238.3        8.472106         28   \n",
       "4  DR410i SP  0.9G Self weight     20241.9        8.472106         28   \n",
       "\n",
       "   Overhang  Stressvalue  \n",
       "0       594       -20692  \n",
       "1       594       -22670  \n",
       "2       594       -24661  \n",
       "3       594       -26628  \n",
       "4       594       -18723  "
      ]
     },
     "execution_count": 3,
     "metadata": {},
     "output_type": "execute_result"
    }
   ],
   "source": [
    "data.head()"
   ]
  },
  {
   "cell_type": "code",
   "execution_count": 4,
   "id": "ff385d55",
   "metadata": {},
   "outputs": [
    {
     "data": {
      "text/html": [
       "<div>\n",
       "<style scoped>\n",
       "    .dataframe tbody tr th:only-of-type {\n",
       "        vertical-align: middle;\n",
       "    }\n",
       "\n",
       "    .dataframe tbody tr th {\n",
       "        vertical-align: top;\n",
       "    }\n",
       "\n",
       "    .dataframe thead th {\n",
       "        text-align: right;\n",
       "    }\n",
       "</style>\n",
       "<table border=\"1\" class=\"dataframe\">\n",
       "  <thead>\n",
       "    <tr style=\"text-align: right;\">\n",
       "      <th></th>\n",
       "      <th>Mastweight</th>\n",
       "      <th>Sectionmodulus</th>\n",
       "      <th>Mastdepth</th>\n",
       "      <th>Overhang</th>\n",
       "      <th>Stressvalue</th>\n",
       "    </tr>\n",
       "  </thead>\n",
       "  <tbody>\n",
       "    <tr>\n",
       "      <th>0</th>\n",
       "      <td>22491.0</td>\n",
       "      <td>8.472106</td>\n",
       "      <td>28</td>\n",
       "      <td>594</td>\n",
       "      <td>-20692</td>\n",
       "    </tr>\n",
       "    <tr>\n",
       "      <th>1</th>\n",
       "      <td>24740.1</td>\n",
       "      <td>8.472106</td>\n",
       "      <td>28</td>\n",
       "      <td>594</td>\n",
       "      <td>-22670</td>\n",
       "    </tr>\n",
       "    <tr>\n",
       "      <th>2</th>\n",
       "      <td>26989.2</td>\n",
       "      <td>8.472106</td>\n",
       "      <td>28</td>\n",
       "      <td>594</td>\n",
       "      <td>-24661</td>\n",
       "    </tr>\n",
       "    <tr>\n",
       "      <th>3</th>\n",
       "      <td>29238.3</td>\n",
       "      <td>8.472106</td>\n",
       "      <td>28</td>\n",
       "      <td>594</td>\n",
       "      <td>-26628</td>\n",
       "    </tr>\n",
       "    <tr>\n",
       "      <th>4</th>\n",
       "      <td>20241.9</td>\n",
       "      <td>8.472106</td>\n",
       "      <td>28</td>\n",
       "      <td>594</td>\n",
       "      <td>-18723</td>\n",
       "    </tr>\n",
       "  </tbody>\n",
       "</table>\n",
       "</div>"
      ],
      "text/plain": [
       "   Mastweight  Sectionmodulus  Mastdepth  Overhang  Stressvalue\n",
       "0     22491.0        8.472106         28       594       -20692\n",
       "1     24740.1        8.472106         28       594       -22670\n",
       "2     26989.2        8.472106         28       594       -24661\n",
       "3     29238.3        8.472106         28       594       -26628\n",
       "4     20241.9        8.472106         28       594       -18723"
      ]
     },
     "execution_count": 4,
     "metadata": {},
     "output_type": "execute_result"
    }
   ],
   "source": [
    "data = data.drop('Mast name', axis = 'columns')\n",
    "data = data.drop('Load case', axis = 'columns')\n",
    "\n",
    "data.head()"
   ]
  },
  {
   "cell_type": "code",
   "execution_count": 5,
   "id": "973efeb0",
   "metadata": {},
   "outputs": [],
   "source": [
    "#import smogn"
   ]
  },
  {
   "cell_type": "code",
   "execution_count": 6,
   "id": "db4fc5af",
   "metadata": {},
   "outputs": [],
   "source": [
    "# rg_mtrx = [\n",
    "#  #   [24000,1,0],\n",
    "#  #   [30000,1,0],\n",
    "#  #   [20000,1,0],\n",
    "# #   [15000,1,0],\n",
    "# #     [20000,1,0],\n",
    "#  #    [21000,1,0],\n",
    "# #     [21500,1,0],\n",
    "# #     [22000,1,0],\n",
    "# #     [22500,1,0],\n",
    "# #     [23000,1,0],\n",
    "# #     [23500,1,0],\n",
    "# #     [24000,1,0],\n",
    "# #     [24500,1,0],\n",
    "# #     [25000,1,0],\n",
    "#  #    [25500,1,0],\n",
    "# #     [26000,1,0],\n",
    "# #     [26500,1,0],\n",
    "# #     [27000,1,0],\n",
    "# #     [27500,1,0],\n",
    "#     [10000,0,0],\n",
    "#     [36000,1,0],\n",
    "# #     [37000,0,0]\n",
    "# ]"
   ]
  },
  {
   "cell_type": "code",
   "execution_count": 7,
   "id": "295e630c",
   "metadata": {},
   "outputs": [],
   "source": [
    "#data_smogn = smogn.smoter(data = data, y = \"Stressvalue\", rel_method = 'manual', rel_ctrl_pts_rg = rg_mtrx, samp_method = 'extreme')"
   ]
  },
  {
   "cell_type": "code",
   "execution_count": 8,
   "id": "a6f6b1db",
   "metadata": {
    "scrolled": false
   },
   "outputs": [],
   "source": [
    "#data_smogn"
   ]
  },
  {
   "cell_type": "code",
   "execution_count": 9,
   "id": "d62882af",
   "metadata": {},
   "outputs": [],
   "source": [
    "#data.shape"
   ]
  },
  {
   "cell_type": "code",
   "execution_count": 10,
   "id": "c0c387ef",
   "metadata": {},
   "outputs": [],
   "source": [
    "#data_smogn.shape"
   ]
  },
  {
   "cell_type": "code",
   "execution_count": 11,
   "id": "34927410",
   "metadata": {},
   "outputs": [],
   "source": [
    "# frames = [data, data_smogn]\n",
    "# df = pd.concat(frames)\n",
    "# df"
   ]
  },
  {
   "cell_type": "code",
   "execution_count": 12,
   "id": "8740d5a9",
   "metadata": {},
   "outputs": [],
   "source": [
    "#df.shape"
   ]
  },
  {
   "cell_type": "code",
   "execution_count": 13,
   "id": "487a1267",
   "metadata": {},
   "outputs": [],
   "source": [
    "X_train = data[[\"Mastweight\", \"Sectionmodulus\", \"Mastdepth\", \"Overhang\"]]\n",
    "y_train = data[[\"Stressvalue\"]]"
   ]
  },
  {
   "cell_type": "code",
   "execution_count": 14,
   "id": "7e3df346",
   "metadata": {},
   "outputs": [],
   "source": [
    "import xgboost as xgb\n",
    "# from sklearn.model_selection import GridSearchCV\n",
    "# param_grid = {\"max_depth\":    [3, 4, 5, 6],\n",
    "#               \"n_estimators\": [500, 600, 700, 800, 900, 1000, 3000, 4000, 5000], \"learning_rate\": [0.1, 0.2, 0.25, 0.3]}\n",
    "# xgb_model = xgb.XGBRegressor(eval_metric = 'rmsle')\n",
    "# search = GridSearchCV(xgb_model, param_grid, cv=5).fit(X_train, y_train.values.ravel())\n",
    "# print(\"The best hyperparameters are \",search.best_params_)"
   ]
  },
  {
   "cell_type": "code",
   "execution_count": 15,
   "id": "a34bc177",
   "metadata": {},
   "outputs": [],
   "source": [
    "xgb_model = xgb.XGBRegressor(max_depth = 3, n_estimators = 5000, learning_rate = 0.1)"
   ]
  },
  {
   "cell_type": "code",
   "execution_count": 16,
   "id": "80a6e28b",
   "metadata": {},
   "outputs": [
    {
     "data": {
      "text/html": [
       "<style>#sk-container-id-1 {color: black;background-color: white;}#sk-container-id-1 pre{padding: 0;}#sk-container-id-1 div.sk-toggleable {background-color: white;}#sk-container-id-1 label.sk-toggleable__label {cursor: pointer;display: block;width: 100%;margin-bottom: 0;padding: 0.3em;box-sizing: border-box;text-align: center;}#sk-container-id-1 label.sk-toggleable__label-arrow:before {content: \"▸\";float: left;margin-right: 0.25em;color: #696969;}#sk-container-id-1 label.sk-toggleable__label-arrow:hover:before {color: black;}#sk-container-id-1 div.sk-estimator:hover label.sk-toggleable__label-arrow:before {color: black;}#sk-container-id-1 div.sk-toggleable__content {max-height: 0;max-width: 0;overflow: hidden;text-align: left;background-color: #f0f8ff;}#sk-container-id-1 div.sk-toggleable__content pre {margin: 0.2em;color: black;border-radius: 0.25em;background-color: #f0f8ff;}#sk-container-id-1 input.sk-toggleable__control:checked~div.sk-toggleable__content {max-height: 200px;max-width: 100%;overflow: auto;}#sk-container-id-1 input.sk-toggleable__control:checked~label.sk-toggleable__label-arrow:before {content: \"▾\";}#sk-container-id-1 div.sk-estimator input.sk-toggleable__control:checked~label.sk-toggleable__label {background-color: #d4ebff;}#sk-container-id-1 div.sk-label input.sk-toggleable__control:checked~label.sk-toggleable__label {background-color: #d4ebff;}#sk-container-id-1 input.sk-hidden--visually {border: 0;clip: rect(1px 1px 1px 1px);clip: rect(1px, 1px, 1px, 1px);height: 1px;margin: -1px;overflow: hidden;padding: 0;position: absolute;width: 1px;}#sk-container-id-1 div.sk-estimator {font-family: monospace;background-color: #f0f8ff;border: 1px dotted black;border-radius: 0.25em;box-sizing: border-box;margin-bottom: 0.5em;}#sk-container-id-1 div.sk-estimator:hover {background-color: #d4ebff;}#sk-container-id-1 div.sk-parallel-item::after {content: \"\";width: 100%;border-bottom: 1px solid gray;flex-grow: 1;}#sk-container-id-1 div.sk-label:hover label.sk-toggleable__label {background-color: #d4ebff;}#sk-container-id-1 div.sk-serial::before {content: \"\";position: absolute;border-left: 1px solid gray;box-sizing: border-box;top: 0;bottom: 0;left: 50%;z-index: 0;}#sk-container-id-1 div.sk-serial {display: flex;flex-direction: column;align-items: center;background-color: white;padding-right: 0.2em;padding-left: 0.2em;position: relative;}#sk-container-id-1 div.sk-item {position: relative;z-index: 1;}#sk-container-id-1 div.sk-parallel {display: flex;align-items: stretch;justify-content: center;background-color: white;position: relative;}#sk-container-id-1 div.sk-item::before, #sk-container-id-1 div.sk-parallel-item::before {content: \"\";position: absolute;border-left: 1px solid gray;box-sizing: border-box;top: 0;bottom: 0;left: 50%;z-index: -1;}#sk-container-id-1 div.sk-parallel-item {display: flex;flex-direction: column;z-index: 1;position: relative;background-color: white;}#sk-container-id-1 div.sk-parallel-item:first-child::after {align-self: flex-end;width: 50%;}#sk-container-id-1 div.sk-parallel-item:last-child::after {align-self: flex-start;width: 50%;}#sk-container-id-1 div.sk-parallel-item:only-child::after {width: 0;}#sk-container-id-1 div.sk-dashed-wrapped {border: 1px dashed gray;margin: 0 0.4em 0.5em 0.4em;box-sizing: border-box;padding-bottom: 0.4em;background-color: white;}#sk-container-id-1 div.sk-label label {font-family: monospace;font-weight: bold;display: inline-block;line-height: 1.2em;}#sk-container-id-1 div.sk-label-container {text-align: center;}#sk-container-id-1 div.sk-container {/* jupyter's `normalize.less` sets `[hidden] { display: none; }` but bootstrap.min.css set `[hidden] { display: none !important; }` so we also need the `!important` here to be able to override the default hidden behavior on the sphinx rendered scikit-learn.org. See: https://github.com/scikit-learn/scikit-learn/issues/21755 */display: inline-block !important;position: relative;}#sk-container-id-1 div.sk-text-repr-fallback {display: none;}</style><div id=\"sk-container-id-1\" class=\"sk-top-container\"><div class=\"sk-text-repr-fallback\"><pre>XGBRegressor(base_score=0.5, booster=&#x27;gbtree&#x27;, callbacks=None,\n",
       "             colsample_bylevel=1, colsample_bynode=1, colsample_bytree=1,\n",
       "             early_stopping_rounds=None, enable_categorical=False,\n",
       "             eval_metric=None, feature_types=None, gamma=0, gpu_id=-1,\n",
       "             grow_policy=&#x27;depthwise&#x27;, importance_type=None,\n",
       "             interaction_constraints=&#x27;&#x27;, learning_rate=0.1, max_bin=256,\n",
       "             max_cat_threshold=64, max_cat_to_onehot=4, max_delta_step=0,\n",
       "             max_depth=3, max_leaves=0, min_child_weight=1, missing=nan,\n",
       "             monotone_constraints=&#x27;()&#x27;, n_estimators=5000, n_jobs=0,\n",
       "             num_parallel_tree=1, predictor=&#x27;auto&#x27;, random_state=0, ...)</pre><b>In a Jupyter environment, please rerun this cell to show the HTML representation or trust the notebook. <br />On GitHub, the HTML representation is unable to render, please try loading this page with nbviewer.org.</b></div><div class=\"sk-container\" hidden><div class=\"sk-item\"><div class=\"sk-estimator sk-toggleable\"><input class=\"sk-toggleable__control sk-hidden--visually\" id=\"sk-estimator-id-1\" type=\"checkbox\" checked><label for=\"sk-estimator-id-1\" class=\"sk-toggleable__label sk-toggleable__label-arrow\">XGBRegressor</label><div class=\"sk-toggleable__content\"><pre>XGBRegressor(base_score=0.5, booster=&#x27;gbtree&#x27;, callbacks=None,\n",
       "             colsample_bylevel=1, colsample_bynode=1, colsample_bytree=1,\n",
       "             early_stopping_rounds=None, enable_categorical=False,\n",
       "             eval_metric=None, feature_types=None, gamma=0, gpu_id=-1,\n",
       "             grow_policy=&#x27;depthwise&#x27;, importance_type=None,\n",
       "             interaction_constraints=&#x27;&#x27;, learning_rate=0.1, max_bin=256,\n",
       "             max_cat_threshold=64, max_cat_to_onehot=4, max_delta_step=0,\n",
       "             max_depth=3, max_leaves=0, min_child_weight=1, missing=nan,\n",
       "             monotone_constraints=&#x27;()&#x27;, n_estimators=5000, n_jobs=0,\n",
       "             num_parallel_tree=1, predictor=&#x27;auto&#x27;, random_state=0, ...)</pre></div></div></div></div></div>"
      ],
      "text/plain": [
       "XGBRegressor(base_score=0.5, booster='gbtree', callbacks=None,\n",
       "             colsample_bylevel=1, colsample_bynode=1, colsample_bytree=1,\n",
       "             early_stopping_rounds=None, enable_categorical=False,\n",
       "             eval_metric=None, feature_types=None, gamma=0, gpu_id=-1,\n",
       "             grow_policy='depthwise', importance_type=None,\n",
       "             interaction_constraints='', learning_rate=0.1, max_bin=256,\n",
       "             max_cat_threshold=64, max_cat_to_onehot=4, max_delta_step=0,\n",
       "             max_depth=3, max_leaves=0, min_child_weight=1, missing=nan,\n",
       "             monotone_constraints='()', n_estimators=5000, n_jobs=0,\n",
       "             num_parallel_tree=1, predictor='auto', random_state=0, ...)"
      ]
     },
     "execution_count": 16,
     "metadata": {},
     "output_type": "execute_result"
    }
   ],
   "source": [
    "xgb_model.fit(X_train, y_train.values.ravel())"
   ]
  },
  {
   "cell_type": "code",
   "execution_count": 17,
   "id": "4bb934fe",
   "metadata": {},
   "outputs": [],
   "source": [
    "test_data = pd.read_excel(\"C:\\\\Users\\\\fl9768\\\\Desktop\\\\Data for ML\\\\Fatigue\\\\Loc-1\\\\Just lift - Loc - 1_test.xlsx\")\n",
    "X_test = test_data[[\"Mastweight\", \"Sectionmodulus\", \"Mastdepth\", \"Overhang\"]]\n",
    "y_test = test_data[[\"Stressvalue\"]]"
   ]
  },
  {
   "cell_type": "code",
   "execution_count": 18,
   "id": "175a2154",
   "metadata": {},
   "outputs": [],
   "source": [
    "y_pred_xgb = xgb_model.predict(X_test)"
   ]
  },
  {
   "cell_type": "code",
   "execution_count": 19,
   "id": "b35860fe",
   "metadata": {},
   "outputs": [
    {
     "data": {
      "text/plain": [
       "array([-17082.406, -19684.87 , -11752.861, -22852.635, -22757.826,\n",
       "       -19059.172, -13198.091, -15862.717], dtype=float32)"
      ]
     },
     "execution_count": 19,
     "metadata": {},
     "output_type": "execute_result"
    }
   ],
   "source": [
    "y_pred_xgb"
   ]
  },
  {
   "cell_type": "code",
   "execution_count": 20,
   "id": "86cf15b9",
   "metadata": {},
   "outputs": [
    {
     "name": "stdout",
     "output_type": "stream",
     "text": [
      "RMSE: 664.9310959616862\n"
     ]
    }
   ],
   "source": [
    "from sklearn.metrics import mean_squared_error\n",
    "print('RMSE: {}'.format(np.sqrt(mean_squared_error(y_test, y_pred_xgb))))"
   ]
  },
  {
   "cell_type": "code",
   "execution_count": 21,
   "id": "4f80323a",
   "metadata": {},
   "outputs": [
    {
     "data": {
      "text/plain": [
       "<matplotlib.collections.PathCollection at 0x1ec670df880>"
      ]
     },
     "execution_count": 21,
     "metadata": {},
     "output_type": "execute_result"
    },
    {
     "data": {
      "image/png": "[encoded data removed]",
      "text/plain": [
       "<Figure size 432x288 with 1 Axes>"
      ]
     },
     "metadata": {
      "needs_background": "light"
     },
     "output_type": "display_data"
    }
   ],
   "source": [
    "import matplotlib.pyplot as plt\n",
    "plt.scatter(y_pred_xgb, y_test)"
   ]
  },
  {
   "cell_type": "code",
   "execution_count": 22,
   "id": "13a025da",
   "metadata": {},
   "outputs": [
    {
     "name": "stderr",
     "output_type": "stream",
     "text": [
      "C:\\Users\\fl9768\\AppData\\Local\\Temp\\ipykernel_21636\\3240061954.py:1: SettingWithCopyWarning: \n",
      "A value is trying to be set on a copy of a slice from a DataFrame.\n",
      "Try using .loc[row_indexer,col_indexer] = value instead\n",
      "\n",
      "See the caveats in the documentation: https://pandas.pydata.org/pandas-docs/stable/user_guide/indexing.html#returning-a-view-versus-a-copy\n",
      "  y_test['Predicted value RF'] = y_pred_xgb\n",
      "C:\\Users\\fl9768\\AppData\\Local\\Temp\\ipykernel_21636\\3240061954.py:2: SettingWithCopyWarning: \n",
      "A value is trying to be set on a copy of a slice from a DataFrame.\n",
      "Try using .loc[row_indexer,col_indexer] = value instead\n",
      "\n",
      "See the caveats in the documentation: https://pandas.pydata.org/pandas-docs/stable/user_guide/indexing.html#returning-a-view-versus-a-copy\n",
      "  y_test['Difference'] = abs(y_test['Stressvalue'] - y_test['Predicted value RF'])\n"
     ]
    },
    {
     "data": {
      "text/html": [
       "<div>\n",
       "<style scoped>\n",
       "    .dataframe tbody tr th:only-of-type {\n",
       "        vertical-align: middle;\n",
       "    }\n",
       "\n",
       "    .dataframe tbody tr th {\n",
       "        vertical-align: top;\n",
       "    }\n",
       "\n",
       "    .dataframe thead th {\n",
       "        text-align: right;\n",
       "    }\n",
       "</style>\n",
       "<table border=\"1\" class=\"dataframe\">\n",
       "  <thead>\n",
       "    <tr style=\"text-align: right;\">\n",
       "      <th></th>\n",
       "      <th>Stressvalue</th>\n",
       "      <th>Predicted value RF</th>\n",
       "      <th>Difference</th>\n",
       "    </tr>\n",
       "  </thead>\n",
       "  <tbody>\n",
       "    <tr>\n",
       "      <th>0</th>\n",
       "      <td>-16756</td>\n",
       "      <td>-17082.406250</td>\n",
       "      <td>326.406250</td>\n",
       "    </tr>\n",
       "    <tr>\n",
       "      <th>1</th>\n",
       "      <td>-18455</td>\n",
       "      <td>-19684.869141</td>\n",
       "      <td>1229.869141</td>\n",
       "    </tr>\n",
       "    <tr>\n",
       "      <th>2</th>\n",
       "      <td>-10748</td>\n",
       "      <td>-11752.861328</td>\n",
       "      <td>1004.861328</td>\n",
       "    </tr>\n",
       "    <tr>\n",
       "      <th>3</th>\n",
       "      <td>-23108</td>\n",
       "      <td>-22852.634766</td>\n",
       "      <td>255.365234</td>\n",
       "    </tr>\n",
       "    <tr>\n",
       "      <th>4</th>\n",
       "      <td>-22394</td>\n",
       "      <td>-22757.826172</td>\n",
       "      <td>363.826172</td>\n",
       "    </tr>\n",
       "    <tr>\n",
       "      <th>5</th>\n",
       "      <td>-18354</td>\n",
       "      <td>-19059.171875</td>\n",
       "      <td>705.171875</td>\n",
       "    </tr>\n",
       "    <tr>\n",
       "      <th>6</th>\n",
       "      <td>-12803</td>\n",
       "      <td>-13198.090820</td>\n",
       "      <td>395.090820</td>\n",
       "    </tr>\n",
       "    <tr>\n",
       "      <th>7</th>\n",
       "      <td>-16102</td>\n",
       "      <td>-15862.716797</td>\n",
       "      <td>239.283203</td>\n",
       "    </tr>\n",
       "  </tbody>\n",
       "</table>\n",
       "</div>"
      ],
      "text/plain": [
       "   Stressvalue  Predicted value RF   Difference\n",
       "0       -16756       -17082.406250   326.406250\n",
       "1       -18455       -19684.869141  1229.869141\n",
       "2       -10748       -11752.861328  1004.861328\n",
       "3       -23108       -22852.634766   255.365234\n",
       "4       -22394       -22757.826172   363.826172\n",
       "5       -18354       -19059.171875   705.171875\n",
       "6       -12803       -13198.090820   395.090820\n",
       "7       -16102       -15862.716797   239.283203"
      ]
     },
     "execution_count": 22,
     "metadata": {},
     "output_type": "execute_result"
    }
   ],
   "source": [
    "y_test['Predicted value RF'] = y_pred_xgb\n",
    "y_test['Difference'] = abs(y_test['Stressvalue'] - y_test['Predicted value RF'])\n",
    "y_test"
   ]
  },
  {
   "cell_type": "code",
   "execution_count": 25,
   "id": "4b38531d",
   "metadata": {},
   "outputs": [],
   "source": [
    "import pickle\n",
    "pickle.dump(xgb_model, open('just_lift_loc_1_xgb.pkl', 'wb'))"
   ]
  },
  {
   "cell_type": "code",
   "execution_count": 26,
   "id": "a9e80a06",
   "metadata": {},
   "outputs": [
    {
     "data": {
      "text/plain": [
       "array([-17082.406, -19684.87 , -11752.861, -22852.635, -22757.826,\n",
       "       -19059.172, -13198.091, -15862.717], dtype=float32)"
      ]
     },
     "execution_count": 26,
     "metadata": {},
     "output_type": "execute_result"
    }
   ],
   "source": [
    "just_lift_loc_1_prediction = pickle.load(open('just_lift_loc_1_xgb.pkl', 'rb'))\n",
    "just_lift_loc_1_prediction.predict(X_test)"
   ]
  },
  {
   "cell_type": "code",
   "execution_count": null,
   "id": "279ee8f5",
   "metadata": {},
   "outputs": [],
   "source": []
  }
 ],
 "metadata": {
  "kernelspec": {
   "display_name": "Python 3 (ipykernel)",
   "language": "python",
   "name": "python3"
  },
  "language_info": {
   "codemirror_mode": {
    "name": "ipython",
    "version": 3
   },
   "file_extension": ".py",
   "mimetype": "text/x-python",
   "name": "python",
   "nbconvert_exporter": "python",
   "pygments_lexer": "ipython3",
   "version": "3.9.12"
  }
 },
 "nbformat": 4,
 "nbformat_minor": 5
}
