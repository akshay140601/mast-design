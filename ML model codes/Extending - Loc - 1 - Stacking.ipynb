{
 "cells": [
  {
   "cell_type": "code",
   "execution_count": 1,
   "id": "514dee40",
   "metadata": {},
   "outputs": [],
   "source": [
    "import pandas as pd\n",
    "import numpy as np\n",
    "from sklearn.ensemble import RandomForestRegressor\n",
    "from sklearn.ensemble import StackingRegressor\n",
    "import xgboost as xgb\n",
    "from sklearn.metrics import mean_squared_error\n",
    "from sklearn import linear_model"
   ]
  },
  {
   "cell_type": "code",
   "execution_count": 2,
   "id": "70907e64",
   "metadata": {},
   "outputs": [],
   "source": [
    "data = pd.read_excel(\"C:\\\\Users\\\\fl9768\\\\Desktop\\\\Data for ML\\\\Fatigue\\\\Loc-1\\\\Extending - Loc - 1_train.xlsx\")"
   ]
  },
  {
   "cell_type": "code",
   "execution_count": 3,
   "id": "f7159e12",
   "metadata": {},
   "outputs": [
    {
     "data": {
      "text/html": [
       "<div>\n",
       "<style scoped>\n",
       "    .dataframe tbody tr th:only-of-type {\n",
       "        vertical-align: middle;\n",
       "    }\n",
       "\n",
       "    .dataframe tbody tr th {\n",
       "        vertical-align: top;\n",
       "    }\n",
       "\n",
       "    .dataframe thead th {\n",
       "        text-align: right;\n",
       "    }\n",
       "</style>\n",
       "<table border=\"1\" class=\"dataframe\">\n",
       "  <thead>\n",
       "    <tr style=\"text-align: right;\">\n",
       "      <th></th>\n",
       "      <th>Mast name</th>\n",
       "      <th>Load case</th>\n",
       "      <th>Extendingforce</th>\n",
       "      <th>Sectionmodulus</th>\n",
       "      <th>Mastdepth</th>\n",
       "      <th>Sectionmodulus2</th>\n",
       "      <th>Stressvalue</th>\n",
       "    </tr>\n",
       "  </thead>\n",
       "  <tbody>\n",
       "    <tr>\n",
       "      <th>0</th>\n",
       "      <td>DR410i SP</td>\n",
       "      <td>Extending</td>\n",
       "      <td>116140.0</td>\n",
       "      <td>8.472106</td>\n",
       "      <td>28</td>\n",
       "      <td>4.396883</td>\n",
       "      <td>18452</td>\n",
       "    </tr>\n",
       "    <tr>\n",
       "      <th>1</th>\n",
       "      <td>DR410i SP</td>\n",
       "      <td>1.1 Extending</td>\n",
       "      <td>127754.0</td>\n",
       "      <td>8.472106</td>\n",
       "      <td>28</td>\n",
       "      <td>4.396883</td>\n",
       "      <td>20212</td>\n",
       "    </tr>\n",
       "    <tr>\n",
       "      <th>2</th>\n",
       "      <td>DR410i SP</td>\n",
       "      <td>0.75 Extending</td>\n",
       "      <td>87105.0</td>\n",
       "      <td>8.472106</td>\n",
       "      <td>28</td>\n",
       "      <td>4.396883</td>\n",
       "      <td>13777</td>\n",
       "    </tr>\n",
       "    <tr>\n",
       "      <th>3</th>\n",
       "      <td>DR410i SP</td>\n",
       "      <td>0.8 Extending</td>\n",
       "      <td>92912.0</td>\n",
       "      <td>8.472106</td>\n",
       "      <td>28</td>\n",
       "      <td>4.396883</td>\n",
       "      <td>14679</td>\n",
       "    </tr>\n",
       "    <tr>\n",
       "      <th>4</th>\n",
       "      <td>DR410i SP</td>\n",
       "      <td>0.9 Extending</td>\n",
       "      <td>104526.0</td>\n",
       "      <td>8.472106</td>\n",
       "      <td>28</td>\n",
       "      <td>4.396883</td>\n",
       "      <td>16515</td>\n",
       "    </tr>\n",
       "  </tbody>\n",
       "</table>\n",
       "</div>"
      ],
      "text/plain": [
       "   Mast name       Load case  Extendingforce  Sectionmodulus  Mastdepth  \\\n",
       "0  DR410i SP       Extending        116140.0        8.472106         28   \n",
       "1  DR410i SP   1.1 Extending        127754.0        8.472106         28   \n",
       "2  DR410i SP  0.75 Extending         87105.0        8.472106         28   \n",
       "3  DR410i SP   0.8 Extending         92912.0        8.472106         28   \n",
       "4  DR410i SP   0.9 Extending        104526.0        8.472106         28   \n",
       "\n",
       "   Sectionmodulus2  Stressvalue  \n",
       "0         4.396883        18452  \n",
       "1         4.396883        20212  \n",
       "2         4.396883        13777  \n",
       "3         4.396883        14679  \n",
       "4         4.396883        16515  "
      ]
     },
     "execution_count": 3,
     "metadata": {},
     "output_type": "execute_result"
    }
   ],
   "source": [
    "data.head()"
   ]
  },
  {
   "cell_type": "code",
   "execution_count": 4,
   "id": "94b645ff",
   "metadata": {},
   "outputs": [
    {
     "data": {
      "text/html": [
       "<div>\n",
       "<style scoped>\n",
       "    .dataframe tbody tr th:only-of-type {\n",
       "        vertical-align: middle;\n",
       "    }\n",
       "\n",
       "    .dataframe tbody tr th {\n",
       "        vertical-align: top;\n",
       "    }\n",
       "\n",
       "    .dataframe thead th {\n",
       "        text-align: right;\n",
       "    }\n",
       "</style>\n",
       "<table border=\"1\" class=\"dataframe\">\n",
       "  <thead>\n",
       "    <tr style=\"text-align: right;\">\n",
       "      <th></th>\n",
       "      <th>Extendingforce</th>\n",
       "      <th>Sectionmodulus</th>\n",
       "      <th>Mastdepth</th>\n",
       "      <th>Sectionmodulus2</th>\n",
       "      <th>Stressvalue</th>\n",
       "    </tr>\n",
       "  </thead>\n",
       "  <tbody>\n",
       "    <tr>\n",
       "      <th>0</th>\n",
       "      <td>116140.0</td>\n",
       "      <td>8.472106</td>\n",
       "      <td>28</td>\n",
       "      <td>4.396883</td>\n",
       "      <td>18452</td>\n",
       "    </tr>\n",
       "    <tr>\n",
       "      <th>1</th>\n",
       "      <td>127754.0</td>\n",
       "      <td>8.472106</td>\n",
       "      <td>28</td>\n",
       "      <td>4.396883</td>\n",
       "      <td>20212</td>\n",
       "    </tr>\n",
       "    <tr>\n",
       "      <th>2</th>\n",
       "      <td>87105.0</td>\n",
       "      <td>8.472106</td>\n",
       "      <td>28</td>\n",
       "      <td>4.396883</td>\n",
       "      <td>13777</td>\n",
       "    </tr>\n",
       "    <tr>\n",
       "      <th>3</th>\n",
       "      <td>92912.0</td>\n",
       "      <td>8.472106</td>\n",
       "      <td>28</td>\n",
       "      <td>4.396883</td>\n",
       "      <td>14679</td>\n",
       "    </tr>\n",
       "    <tr>\n",
       "      <th>4</th>\n",
       "      <td>104526.0</td>\n",
       "      <td>8.472106</td>\n",
       "      <td>28</td>\n",
       "      <td>4.396883</td>\n",
       "      <td>16515</td>\n",
       "    </tr>\n",
       "  </tbody>\n",
       "</table>\n",
       "</div>"
      ],
      "text/plain": [
       "   Extendingforce  Sectionmodulus  Mastdepth  Sectionmodulus2  Stressvalue\n",
       "0        116140.0        8.472106         28         4.396883        18452\n",
       "1        127754.0        8.472106         28         4.396883        20212\n",
       "2         87105.0        8.472106         28         4.396883        13777\n",
       "3         92912.0        8.472106         28         4.396883        14679\n",
       "4        104526.0        8.472106         28         4.396883        16515"
      ]
     },
     "execution_count": 4,
     "metadata": {},
     "output_type": "execute_result"
    }
   ],
   "source": [
    "data = data.drop('Mast name', axis = 'columns')\n",
    "data = data.drop('Load case', axis = 'columns')\n",
    "\n",
    "data.head()"
   ]
  },
  {
   "cell_type": "code",
   "execution_count": 5,
   "id": "74abc91d",
   "metadata": {},
   "outputs": [],
   "source": [
    "#import smogn"
   ]
  },
  {
   "cell_type": "code",
   "execution_count": 6,
   "id": "946a3ff2",
   "metadata": {},
   "outputs": [],
   "source": [
    "# rg_mtrx = [\n",
    "#  #   [24000,1,0],\n",
    "#     [30000,1,0],\n",
    "#  #   [20000,1,0],\n",
    "# #   [15000,1,0],\n",
    "# #     [20000,1,0],\n",
    "#  #    [21000,1,0],\n",
    "# #     [21500,1,0],\n",
    "# #     [22000,1,0],\n",
    "# #     [22500,1,0],\n",
    "# #     [23000,1,0],\n",
    "# #     [23500,1,0],\n",
    "# #     [24000,1,0],\n",
    "# #     [24500,1,0],\n",
    "# #     [25000,1,0],\n",
    "#  #    [25500,1,0],\n",
    "# #     [26000,1,0],\n",
    "# #     [26500,1,0],\n",
    "# #     [27000,1,0],\n",
    "# #     [27500,1,0],\n",
    "#     [10000,0,0],\n",
    "#     [36000,1,0],\n",
    "# #     [37000,0,0]\n",
    "# ]\n",
    "\n",
    "# # rg_mtrx = [\n",
    "\n",
    "# #     [8000, 1, 0],  ## over-sample (\"minority\")\n",
    "# #     [8500, 1, 0],\n",
    "# #     [9000, 1, 0],\n",
    "# #     [9500, 1, 0],\n",
    "# # #     [10000, 1, 0],\n",
    "# # #     [10500, 1, 0],\n",
    "# # #     [11000, 1, 0],\n",
    "# # #     [11500, 1, 0],\n",
    "# # #     [12000, 1, 0],\n",
    "# # #     [12500, 1, 0],\n",
    "# # #     [13000, 1, 0],\n",
    "# # #     [13500, 1, 0],\n",
    "# # #     [14000, 1, 0],\n",
    "# # #     [14500, 1, 0],\n",
    "# # #     [15000, 1, 0],\n",
    "# # #     [15500, 1, 0],\n",
    "# # #     [16000, 1, 0],\n",
    "# # #     [16500, 1, 0],\n",
    "# # #     [17000, 1, 0],\n",
    "# # #     [17500, 1, 0],\n",
    "# # #     [18000, 1, 0],\n",
    "# # #     [18500, 1, 0],\n",
    "# # #     [19000, 1, 0],\n",
    "# # #     [19500, 1, 0],\n",
    "# # #     [20000, 1, 0],\n",
    "# # #     [20500, 1, 0],\n",
    "# # #     [21000, 1, 0],\n",
    "# # #     [11000, 1, 0],\n",
    "# # #     [12500, 1, 0],\n",
    "# # #     [18000, 1, 0],\n",
    "# # #     [19000, 1, 0],\n",
    "# # #     [20000, 1, 0],\n",
    "# #     [28000, 0, 0]\n",
    "# # ]"
   ]
  },
  {
   "cell_type": "code",
   "execution_count": 7,
   "id": "36623199",
   "metadata": {},
   "outputs": [],
   "source": [
    "# data_smogn = smogn.smoter(data = data, y = \"Stressvalue\", rel_method = 'manual', rel_ctrl_pts_rg = rg_mtrx, samp_method = 'extreme')"
   ]
  },
  {
   "cell_type": "code",
   "execution_count": 8,
   "id": "e3c35881",
   "metadata": {
    "scrolled": true
   },
   "outputs": [],
   "source": [
    "#data_smogn"
   ]
  },
  {
   "cell_type": "code",
   "execution_count": 9,
   "id": "fb53bba9",
   "metadata": {},
   "outputs": [],
   "source": [
    "#data.shape"
   ]
  },
  {
   "cell_type": "code",
   "execution_count": 10,
   "id": "435ec5be",
   "metadata": {},
   "outputs": [],
   "source": [
    "#data_smogn.shape"
   ]
  },
  {
   "cell_type": "code",
   "execution_count": 11,
   "id": "ec57b0d5",
   "metadata": {
    "scrolled": true
   },
   "outputs": [],
   "source": [
    "# frames = [data, data_smogn]\n",
    "# df = pd.concat(frames)\n",
    "# df"
   ]
  },
  {
   "cell_type": "code",
   "execution_count": 12,
   "id": "b34cb23b",
   "metadata": {},
   "outputs": [],
   "source": [
    "X_train = data[[\"Extendingforce\", \"Sectionmodulus\", \"Mastdepth\"]]\n",
    "y_train = data[[\"Stressvalue\"]]\n",
    "test_data = pd.read_excel(\"C:\\\\Users\\\\fl9768\\\\Desktop\\\\Data for ML\\\\Fatigue\\\\Loc-1\\\\Extending - Loc - 1_test.xlsx\")\n",
    "X_test = test_data[[\"Extendingforce\", \"Sectionmodulus\", \"Mastdepth\"]]\n",
    "y_test = test_data[[\"Stressvalue\"]]"
   ]
  },
  {
   "cell_type": "code",
   "execution_count": 13,
   "id": "1de93229",
   "metadata": {},
   "outputs": [],
   "source": [
    "base_learners = [('xgb1', xgb.XGBRegressor(max_depth = 3, n_estimators = 3000, learning_rate = 0.05, \n",
    "                                           gamma = 0.9, random_state = 100)),\n",
    "                ('xgb2', xgb.XGBRegressor(max_depth = 9, n_estimators = 2000, learning_rate = 0.25, \n",
    "                                           gamma = 0.9, random_state = 100)),\n",
    "                ('rf1', RandomForestRegressor(max_depth = 3, n_estimators = 175, random_state = 100)),\n",
    "                ('rf2', RandomForestRegressor(max_depth = 10, n_estimators = 175, random_state = 100)),\n",
    "                ('lr', linear_model.LinearRegression())]"
   ]
  },
  {
   "cell_type": "code",
   "execution_count": 14,
   "id": "69c0a34f",
   "metadata": {},
   "outputs": [
    {
     "name": "stdout",
     "output_type": "stream",
     "text": [
      "RMSE: 1105.6208624532726\n"
     ]
    }
   ],
   "source": [
    "final_reg = StackingRegressor(estimators = base_learners, final_estimator = linear_model.LinearRegression())\n",
    "final_reg.fit(X_train, y_train.values.ravel())\n",
    "y_pred_final_reg = final_reg.predict(X_test)\n",
    "print('RMSE: {}'.format(np.sqrt(mean_squared_error(y_test, y_pred_final_reg))))"
   ]
  },
  {
   "cell_type": "code",
   "execution_count": 15,
   "id": "febcab7b",
   "metadata": {},
   "outputs": [
    {
     "name": "stderr",
     "output_type": "stream",
     "text": [
      "C:\\Users\\fl9768\\AppData\\Local\\Temp\\ipykernel_7148\\339197596.py:1: SettingWithCopyWarning: \n",
      "A value is trying to be set on a copy of a slice from a DataFrame.\n",
      "Try using .loc[row_indexer,col_indexer] = value instead\n",
      "\n",
      "See the caveats in the documentation: https://pandas.pydata.org/pandas-docs/stable/user_guide/indexing.html#returning-a-view-versus-a-copy\n",
      "  y_test['Predicted value stack'] = y_pred_final_reg\n",
      "C:\\Users\\fl9768\\AppData\\Local\\Temp\\ipykernel_7148\\339197596.py:2: SettingWithCopyWarning: \n",
      "A value is trying to be set on a copy of a slice from a DataFrame.\n",
      "Try using .loc[row_indexer,col_indexer] = value instead\n",
      "\n",
      "See the caveats in the documentation: https://pandas.pydata.org/pandas-docs/stable/user_guide/indexing.html#returning-a-view-versus-a-copy\n",
      "  y_test['Difference'] = abs(y_test['Stressvalue'] - y_test['Predicted value stack'])\n"
     ]
    },
    {
     "data": {
      "text/html": [
       "<div>\n",
       "<style scoped>\n",
       "    .dataframe tbody tr th:only-of-type {\n",
       "        vertical-align: middle;\n",
       "    }\n",
       "\n",
       "    .dataframe tbody tr th {\n",
       "        vertical-align: top;\n",
       "    }\n",
       "\n",
       "    .dataframe thead th {\n",
       "        text-align: right;\n",
       "    }\n",
       "</style>\n",
       "<table border=\"1\" class=\"dataframe\">\n",
       "  <thead>\n",
       "    <tr style=\"text-align: right;\">\n",
       "      <th></th>\n",
       "      <th>Stressvalue</th>\n",
       "      <th>Predicted value stack</th>\n",
       "      <th>Difference</th>\n",
       "    </tr>\n",
       "  </thead>\n",
       "  <tbody>\n",
       "    <tr>\n",
       "      <th>0</th>\n",
       "      <td>22025</td>\n",
       "      <td>20241.679950</td>\n",
       "      <td>1783.320050</td>\n",
       "    </tr>\n",
       "    <tr>\n",
       "      <th>1</th>\n",
       "      <td>14229</td>\n",
       "      <td>14128.404366</td>\n",
       "      <td>100.595634</td>\n",
       "    </tr>\n",
       "    <tr>\n",
       "      <th>2</th>\n",
       "      <td>11364</td>\n",
       "      <td>12871.044891</td>\n",
       "      <td>1507.044891</td>\n",
       "    </tr>\n",
       "    <tr>\n",
       "      <th>3</th>\n",
       "      <td>23055</td>\n",
       "      <td>23683.100696</td>\n",
       "      <td>628.100696</td>\n",
       "    </tr>\n",
       "    <tr>\n",
       "      <th>4</th>\n",
       "      <td>12691</td>\n",
       "      <td>12910.979108</td>\n",
       "      <td>219.979108</td>\n",
       "    </tr>\n",
       "    <tr>\n",
       "      <th>5</th>\n",
       "      <td>17389</td>\n",
       "      <td>16791.989107</td>\n",
       "      <td>597.010893</td>\n",
       "    </tr>\n",
       "    <tr>\n",
       "      <th>6</th>\n",
       "      <td>13076</td>\n",
       "      <td>12526.310944</td>\n",
       "      <td>549.689056</td>\n",
       "    </tr>\n",
       "    <tr>\n",
       "      <th>7</th>\n",
       "      <td>8556</td>\n",
       "      <td>10349.366775</td>\n",
       "      <td>1793.366775</td>\n",
       "    </tr>\n",
       "  </tbody>\n",
       "</table>\n",
       "</div>"
      ],
      "text/plain": [
       "   Stressvalue  Predicted value stack   Difference\n",
       "0        22025           20241.679950  1783.320050\n",
       "1        14229           14128.404366   100.595634\n",
       "2        11364           12871.044891  1507.044891\n",
       "3        23055           23683.100696   628.100696\n",
       "4        12691           12910.979108   219.979108\n",
       "5        17389           16791.989107   597.010893\n",
       "6        13076           12526.310944   549.689056\n",
       "7         8556           10349.366775  1793.366775"
      ]
     },
     "execution_count": 15,
     "metadata": {},
     "output_type": "execute_result"
    }
   ],
   "source": [
    "y_test['Predicted value stack'] = y_pred_final_reg\n",
    "y_test['Difference'] = abs(y_test['Stressvalue'] - y_test['Predicted value stack'])\n",
    "y_test"
   ]
  },
  {
   "cell_type": "code",
   "execution_count": 18,
   "id": "215df4ac",
   "metadata": {},
   "outputs": [],
   "source": [
    "import pickle\n",
    "pickle.dump(final_reg, open('extending_loc_1_stack.pkl', 'wb'))"
   ]
  },
  {
   "cell_type": "code",
   "execution_count": 19,
   "id": "2ac67cfd",
   "metadata": {
    "scrolled": false
   },
   "outputs": [
    {
     "data": {
      "text/plain": [
       "array([20241.67995006, 14128.40436625, 12871.04489122, 23683.10069575,\n",
       "       12910.97910837, 16791.98910691, 12526.31094444, 10349.36677491])"
      ]
     },
     "execution_count": 19,
     "metadata": {},
     "output_type": "execute_result"
    }
   ],
   "source": [
    "extending_loc_1_prediction = pickle.load(open('extending_loc_1_stack.pkl', 'rb'))\n",
    "extending_loc_1_prediction.predict(X_test)"
   ]
  },
  {
   "cell_type": "code",
   "execution_count": null,
   "id": "19ac563f",
   "metadata": {},
   "outputs": [],
   "source": []
  }
 ],
 "metadata": {
  "kernelspec": {
   "display_name": "Python 3 (ipykernel)",
   "language": "python",
   "name": "python3"
  },
  "language_info": {
   "codemirror_mode": {
    "name": "ipython",
    "version": 3
   },
   "file_extension": ".py",
   "mimetype": "text/x-python",
   "name": "python",
   "nbconvert_exporter": "python",
   "pygments_lexer": "ipython3",
   "version": "3.9.12"
  }
 },
 "nbformat": 4,
 "nbformat_minor": 5
}
